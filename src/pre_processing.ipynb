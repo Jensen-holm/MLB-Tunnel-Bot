{
 "cells": [
  {
   "cell_type": "markdown",
   "metadata": {},
   "source": [
    "# BSBL-Tomorrow Pre-Processing\n",
    "\n",
    "Author: Jensen Holm <br>\n",
    "April 2024"
   ]
  },
  {
   "cell_type": "code",
   "execution_count": 1,
   "metadata": {},
   "outputs": [
    {
     "name": "stdout",
     "output_type": "stream",
     "text": [
      "https://huggingface.co/api/datasets/Jensen-holm/statcast-era-pitches/parquet/default/train/0.parquet\n"
     ]
    }
   ],
   "source": [
    "import requests\n",
    "\n",
    "# get the url for our dataset of all statcast era pitches (2015-2023)\n",
    "# from the huggingface API\n",
    "PARQUET_URL = requests.get(\n",
    "    \"https://huggingface.co/api/datasets/Jensen-holm/statcast-era-pitches/parquet/default/train\",\n",
    ").json()[0]\n",
    "\n",
    "print(PARQUET_URL)"
   ]
  },
  {
   "cell_type": "code",
   "execution_count": 2,
   "metadata": {},
   "outputs": [
    {
     "name": "stdout",
     "output_type": "stream",
     "text": [
      "Rows: 5479763\n",
      "Columns: 92\n",
      "$ pitch_type                      <str> 'FF', 'FC', 'FF', 'FC', 'FF', 'FF', 'FF', 'FF', 'FC', 'KC'\n",
      "$ game_date                       <str> '2015-11-01 00:00:00.000000000', '2015-11-01 00:00:00.000000000', '2015-11-01 00:00:00.000000000', '2015-11-01 00:00:00.000000000', '2015-11-01 00:00:00.000000000', '2015-11-01 00:00:00.000000000', '2015-11-01 00:00:00.000000000', '2015-11-01 00:00:00.000000000', '2015-11-01 00:00:00.000000000', '2015-11-01 00:00:00.000000000'\n",
      "$ release_speed                   <f32> 96.0999984741211, 93.0999984741211, 97.0, 93.5999984741211, 97.0999984741211, 96.5, 96.5999984741211, 97.5999984741211, 92.0, 86.69999694824219\n",
      "$ release_pos_x                   <f32> -2.0199999809265137, -1.659999966621399, -1.6399999856948853, -1.5800000429153442, -1.7000000476837158, -1.6200000047683716, -1.3899999856948853, -1.5099999904632568, -1.8899999856948853, -1.6200000047683716\n",
      "$ release_pos_z                   <f32> 6.25, 6.239999771118164, 6.300000190734863, 6.239999771118164, 6.300000190734863, 6.210000038146973, 6.400000095367432, 6.409999847412109, 6.25, 6.269999980926514\n",
      "$ player_name                     <str> 'Davis, Wade', 'Davis, Wade', 'Davis, Wade', 'Davis, Wade', 'Davis, Wade', 'Davis, Wade', 'Davis, Wade', 'Davis, Wade', 'Davis, Wade', 'Davis, Wade'\n",
      "$ batter                          <i32> 527038, 527038, 527038, 527038, 527038, 527038, 624424, 624424, 624424, 624424\n",
      "$ pitcher                         <i32> 451584, 451584, 451584, 451584, 451584, 451584, 451584, 451584, 451584, 451584\n",
      "$ events                          <str> 'strikeout', None, None, None, None, None, 'single', None, None, None\n",
      "$ description                     <str> 'called_strike', 'foul', 'foul', 'ball', 'foul', 'foul', 'hit_into_play', 'ball', 'called_strike', 'swinging_strike'\n",
      "$ spin_dir                        <i64> None, None, None, None, None, None, None, None, None, None\n",
      "$ spin_rate_deprecated            <i64> None, None, None, None, None, None, None, None, None, None\n",
      "$ break_angle_deprecated          <i64> None, None, None, None, None, None, None, None, None, None\n",
      "$ break_length_deprecated         <i64> None, None, None, None, None, None, None, None, None, None\n",
      "$ zone                            <f32> 13.0, 9.0, 14.0, 14.0, 5.0, 5.0, 4.0, 11.0, 5.0, 14.0\n",
      "$ des                             <str> 'Wilmer Flores called out on strikes.', 'Wilmer Flores called out on strikes.', 'Wilmer Flores called out on strikes.', 'Wilmer Flores called out on strikes.', 'Wilmer Flores called out on strikes.', 'Wilmer Flores called out on strikes.', 'Michael Conforto singles on a line drive to left fielder Alex Gordon.', 'Michael Conforto singles on a line drive to left fielder Alex Gordon.', 'Michael Conforto singles on a line drive to left fielder Alex Gordon.', 'Michael Conforto singles on a line drive to left fielder Alex Gordon.'\n",
      "$ game_type                       <str> 'W', 'W', 'W', 'W', 'W', 'W', 'W', 'W', 'W', 'W'\n",
      "$ stand                           <str> 'R', 'R', 'R', 'R', 'R', 'R', 'L', 'L', 'L', 'L'\n",
      "$ p_throws                        <str> 'R', 'R', 'R', 'R', 'R', 'R', 'R', 'R', 'R', 'R'\n",
      "$ home_team                       <str> 'NYM', 'NYM', 'NYM', 'NYM', 'NYM', 'NYM', 'NYM', 'NYM', 'NYM', 'NYM'\n",
      "$ away_team                       <str> 'KC', 'KC', 'KC', 'KC', 'KC', 'KC', 'KC', 'KC', 'KC', 'KC'\n",
      "$ type                            <str> 'S', 'S', 'S', 'B', 'S', 'S', 'X', 'B', 'S', 'S'\n",
      "$ hit_location                    <f32> 2.0, None, None, None, None, None, 7.0, None, None, None\n",
      "$ bb_type                         <str> None, None, None, None, None, None, 'line_drive', None, None, None\n",
      "$ balls                           <i32> 1, 1, 1, 0, 0, 0, 1, 0, 0, 0\n",
      "$ strikes                         <i32> 2, 2, 2, 2, 1, 0, 2, 2, 1, 0\n",
      "$ game_year                       <i32> 2015, 2015, 2015, 2015, 2015, 2015, 2015, 2015, 2015, 2015\n",
      "$ pfx_x                           <f32> -0.10000000149011612, 0.5, -0.27000001072883606, 0.6499999761581421, -0.5799999833106995, -0.4300000071525574, -0.1899999976158142, -0.10000000149011612, 0.46000000834465027, 0.8100000023841858\n",
      "$ pfx_z                           <f32> 1.4299999475479126, 0.44999998807907104, 1.1799999475479126, 0.5699999928474426, 1.4299999475479126, 1.1399999856948853, 1.3899999856948853, 1.309999942779541, 0.5899999737739563, -1.0\n",
      "$ plate_x                         <f32> -0.9300000071525574, 0.7799999713897705, 1.3200000524520874, 2.9200000762939453, 0.25999999046325684, -0.05000000074505806, -0.6399999856948853, -0.8500000238418579, -0.05000000074505806, 1.059999942779541\n",
      "$ plate_z                         <f32> 1.6200000047683716, 1.5499999523162842, 2.4700000286102295, 2.2300000190734863, 2.740000009536743, 2.559999942779541, 2.690000057220459, 3.1500000953674316, 2.700000047683716, 1.5800000429153442\n",
      "$ on_3b                           <i32> None, None, None, None, None, None, None, None, None, None\n",
      "$ on_2b                           <i32> 624424, 624424, 624424, None, None, None, None, None, None, None\n",
      "$ on_1b                           <i32> None, None, None, 624424, 624424, 624424, None, None, None, None\n",
      "$ outs_when_up                    <i32> 2, 2, 2, 2, 2, 2, 2, 2, 2, 2\n",
      "$ inning                          <f32> 12.0, 12.0, 12.0, 12.0, 12.0, 12.0, 12.0, 12.0, 12.0, 12.0\n",
      "$ inning_topbot                   <str> 'Bot', 'Bot', 'Bot', 'Bot', 'Bot', 'Bot', 'Bot', 'Bot', 'Bot', 'Bot'\n",
      "$ hc_x                            <f64> None, None, None, None, None, None, 83.65, None, None, None\n",
      "$ hc_y                            <f64> None, None, None, None, None, None, 120.15, None, None, None\n",
      "$ tfs_deprecated                  <i64> None, None, None, None, None, None, None, None, None, None\n",
      "$ tfs_zulu_deprecated             <i64> None, None, None, None, None, None, None, None, None, None\n",
      "$ fielder_2                       <i32> 460077, 460077, 460077, 460077, 460077, 460077, 460077, 460077, 460077, 460077\n",
      "$ umpire                          <i64> None, None, None, None, None, None, None, None, None, None\n",
      "$ sv_id                           <str> '151102_003434', '151102_003407', '151102_003338', '151102_003312', '151102_003241', '151102_003211', '151102_003124', '151102_003104', '151102_003043', '151102_003021'\n",
      "$ vx0                             <f32> 3.1401078701019287, 4.990328311920166, 8.631301879882812, 9.893107414245605, 6.809913635253906, 5.320800304412842, 2.5009560585021973, 2.0603606700897217, 3.529362440109253, 4.466300964355469\n",
      "$ vy0                             <f32> -140.72560119628906, -136.39666748046875, -141.8474884033203, -136.60494995117188, -142.01861572265625, -141.39695739746094, -141.4544219970703, -143.01341247558594, -134.7886505126953, -127.161376953125\n",
      "$ vz0                             <f32> -9.348184585571289, -6.388609409332275, -6.829428672790527, -5.019608974456787, -6.757789611816406, -6.0896148681640625, -6.951479911804199, -5.739217758178711, -3.657803773880005, -1.4352083206176758\n",
      "$ ax                              <f32> -2.0280001163482666, 5.004000186920166, -5.4120001792907715, 6.078999996185303, -9.14799976348877, -6.785999774932861, -3.068000078201294, -1.815999984741211, 4.705999851226807, 7.535999774932861\n",
      "$ ay                              <f32> 34.779998779296875, 28.834999084472656, 31.551000595092773, 26.354999542236328, 32.250999450683594, 34.05400085449219, 32.17900085449219, 34.584999084472656, 26.79800033569336, 27.1200008392334\n",
      "$ az                              <f32> -11.706000328063965, -25.322999954223633, -15.189000129699707, -24.25, -11.956000328063965, -16.038000106811523, -12.607000350952148, -13.479999542236328, -24.395999908447266, -42.277000427246094\n",
      "$ sz_top                          <f32> 3.5399999618530273, 3.5399999618530273, 3.5399999618530273, 3.5399999618530273, 3.5399999618530273, 3.5399999618530273, 3.390000104904175, 3.390000104904175, 3.390000104904175, 3.390000104904175\n",
      "$ sz_bot                          <f32> 1.559999942779541, 1.559999942779541, 1.559999942779541, 1.559999942779541, 1.559999942779541, 1.559999942779541, 1.5, 1.5, 1.5, 1.5\n",
      "$ hit_distance_sc                 <i64> None, None, None, None, None, None, 178, None, None, None\n",
      "$ launch_speed                    <f32> None, None, None, None, None, None, 96.0, None, None, None\n",
      "$ launch_angle                    <f32> None, None, None, None, None, None, 8.0, None, None, None\n",
      "$ effective_speed                 <f32> 95.4000015258789, 92.19999694824219, 96.4000015258789, 92.80000305175781, 96.0, 95.9000015258789, 95.9000015258789, 96.69999694824219, 91.19999694824219, 84.80000305175781\n",
      "$ release_spin_rate               <i64> 2463, 2705, 2362, 2724, 2401, 2337, 2312, 2255, 2755, 2509\n",
      "$ release_extension               <f32> 6.400000095367432, 5.900000095367432, 6.300000190734863, 6.0, 6.099999904632568, 6.400000095367432, 6.199999809265137, 6.199999809265137, 5.900000095367432, 5.5\n",
      "$ game_pk                         <i32> 446277, 446277, 446277, 446277, 446277, 446277, 446277, 446277, 446277, 446277\n",
      "$ pitcher.1                       <i64> 451584, 451584, 451584, 451584, 451584, 451584, 451584, 451584, 451584, 451584\n",
      "$ fielder_2.1                     <i64> 460077, 460077, 460077, 460077, 460077, 460077, 460077, 460077, 460077, 460077\n",
      "$ fielder_3                       <i32> 543333, 543333, 543333, 543333, 543333, 543333, 543333, 543333, 543333, 543333\n",
      "$ fielder_4                       <i32> 450314, 450314, 450314, 450314, 450314, 450314, 450314, 450314, 450314, 450314\n",
      "$ fielder_5                       <i32> 519058, 519058, 519058, 519058, 519058, 519058, 519058, 519058, 519058, 519058\n",
      "$ fielder_6                       <i32> 444876, 444876, 444876, 444876, 444876, 444876, 444876, 444876, 444876, 444876\n",
      "$ fielder_7                       <i32> 460086, 460086, 460086, 460086, 460086, 460086, 460086, 460086, 460086, 460086\n",
      "$ fielder_8                       <i32> 456715, 456715, 456715, 456715, 456715, 456715, 456715, 456715, 456715, 456715\n",
      "$ fielder_9                       <i32> 449181, 449181, 449181, 449181, 449181, 449181, 449181, 449181, 449181, 449181\n",
      "$ release_pos_y                   <f32> 54.5, 54.5, 54.5, 54.5, 54.5, 54.5, 54.5, 54.5, 54.5, 54.5\n",
      "$ estimated_ba_using_speedangle   <f32> None, None, None, None, None, None, 0.7269999980926514, None, None, None\n",
      "$ estimated_woba_using_speedangle <f32> None, None, None, None, None, None, 0.7149999737739563, None, None, None\n",
      "$ woba_value                      <f32> 0.0, None, None, None, None, None, 0.8999999761581421, None, None, None\n",
      "$ woba_denom                      <f32> 1.0, None, None, None, None, None, 1.0, None, None, None\n",
      "$ babip_value                     <f32> 0.0, None, None, None, None, None, 1.0, None, None, None\n",
      "$ iso_value                       <f32> 0.0, None, None, None, None, None, 0.0, None, None, None\n",
      "$ launch_speed_angle              <f32> None, None, None, None, None, None, 4.0, None, None, None\n",
      "$ at_bat_number                   <i32> 94, 94, 94, 94, 94, 94, 93, 93, 93, 93\n",
      "$ pitch_number                    <i32> 6, 5, 4, 3, 2, 1, 4, 3, 2, 1\n",
      "$ pitch_name                      <str> '4-Seam Fastball', 'Cutter', '4-Seam Fastball', 'Cutter', '4-Seam Fastball', '4-Seam Fastball', '4-Seam Fastball', '4-Seam Fastball', 'Cutter', 'Knuckle Curve'\n",
      "$ home_score                      <i32> 2, 2, 2, 2, 2, 2, 2, 2, 2, 2\n",
      "$ away_score                      <i32> 7, 7, 7, 7, 7, 7, 7, 7, 7, 7\n",
      "$ bat_score                       <i32> 2, 2, 2, 2, 2, 2, 2, 2, 2, 2\n",
      "$ fld_score                       <i64> 7, 7, 7, 7, 7, 7, 7, 7, 7, 7\n",
      "$ post_away_score                 <i32> 7, 7, 7, 7, 7, 7, 7, 7, 7, 7\n",
      "$ post_home_score                 <i32> 2, 2, 2, 2, 2, 2, 2, 2, 2, 2\n",
      "$ post_bat_score                  <i32> 2, 2, 2, 2, 2, 2, 2, 2, 2, 2\n",
      "$ post_fld_score                  <i64> 7, 7, 7, 7, 7, 7, 7, 7, 7, 7\n",
      "$ if_fielding_alignment           <str> 'Standard', 'Standard', 'Standard', 'Strategic', 'Strategic', 'Strategic', 'Infield shift', 'Infield shift', 'Infield shift', 'Infield shift'\n",
      "$ of_fielding_alignment           <str> 'Strategic', 'Strategic', 'Strategic', 'Strategic', 'Standard', 'Standard', 'Standard', 'Standard', 'Standard', 'Standard'\n",
      "$ spin_axis                       <f32> None, None, None, None, None, None, None, None, None, None\n",
      "$ delta_home_win_exp              <f32> -0.0010000000474974513, 0.0, 0.0, 0.0, 0.0, 0.0, 0.0010000000474974513, 0.0, 0.0, 0.0\n",
      "$ delta_run_exp                   <f32> -0.21199999749660492, 0.0, 0.0, 0.01600000075995922, -0.052000001072883606, -0.03500000014901161, 0.15399999916553497, 0.007000000216066837, -0.02199999988079071, -0.01600000075995922\n",
      "\n"
     ]
    }
   ],
   "source": [
    "import polars as pl\n",
    "\n",
    "# load the dataset into a polars DataFrame\n",
    "statcast_era_pitches: pl.DataFrame = pl.read_parquet(PARQUET_URL)\n",
    "\n",
    "# print columns and their types so we can see what we're working with\n",
    "statcast_era_pitches.glimpse()"
   ]
  },
  {
   "cell_type": "code",
   "execution_count": 3,
   "metadata": {},
   "outputs": [
    {
     "data": {
      "text/plain": [
       "['pitch_type',\n",
       " 'game_date',\n",
       " 'release_speed',\n",
       " 'release_pos_x',\n",
       " 'release_pos_z',\n",
       " 'player_name',\n",
       " 'batter',\n",
       " 'pitcher',\n",
       " 'events',\n",
       " 'description',\n",
       " 'spin_dir',\n",
       " 'spin_rate_deprecated',\n",
       " 'break_angle_deprecated',\n",
       " 'break_length_deprecated',\n",
       " 'zone',\n",
       " 'des',\n",
       " 'game_type',\n",
       " 'stand',\n",
       " 'p_throws',\n",
       " 'home_team',\n",
       " 'away_team',\n",
       " 'type',\n",
       " 'hit_location',\n",
       " 'bb_type',\n",
       " 'balls',\n",
       " 'strikes',\n",
       " 'game_year',\n",
       " 'pfx_x',\n",
       " 'pfx_z',\n",
       " 'plate_x',\n",
       " 'plate_z',\n",
       " 'on_3b',\n",
       " 'on_2b',\n",
       " 'on_1b',\n",
       " 'outs_when_up',\n",
       " 'inning',\n",
       " 'inning_topbot',\n",
       " 'hc_x',\n",
       " 'hc_y',\n",
       " 'tfs_deprecated',\n",
       " 'tfs_zulu_deprecated',\n",
       " 'fielder_2',\n",
       " 'umpire',\n",
       " 'sv_id',\n",
       " 'vx0',\n",
       " 'vy0',\n",
       " 'vz0',\n",
       " 'ax',\n",
       " 'ay',\n",
       " 'az',\n",
       " 'sz_top',\n",
       " 'sz_bot',\n",
       " 'hit_distance_sc',\n",
       " 'launch_speed',\n",
       " 'launch_angle',\n",
       " 'effective_speed',\n",
       " 'release_spin_rate',\n",
       " 'release_extension',\n",
       " 'game_pk',\n",
       " 'pitcher.1',\n",
       " 'fielder_2.1',\n",
       " 'fielder_3',\n",
       " 'fielder_4',\n",
       " 'fielder_5',\n",
       " 'fielder_6',\n",
       " 'fielder_7',\n",
       " 'fielder_8',\n",
       " 'fielder_9',\n",
       " 'release_pos_y',\n",
       " 'estimated_ba_using_speedangle',\n",
       " 'estimated_woba_using_speedangle',\n",
       " 'woba_value',\n",
       " 'woba_denom',\n",
       " 'babip_value',\n",
       " 'iso_value',\n",
       " 'launch_speed_angle',\n",
       " 'at_bat_number',\n",
       " 'pitch_number',\n",
       " 'pitch_name',\n",
       " 'home_score',\n",
       " 'away_score',\n",
       " 'bat_score',\n",
       " 'fld_score',\n",
       " 'post_away_score',\n",
       " 'post_home_score',\n",
       " 'post_bat_score',\n",
       " 'post_fld_score',\n",
       " 'if_fielding_alignment',\n",
       " 'of_fielding_alignment',\n",
       " 'spin_axis',\n",
       " 'delta_home_win_exp',\n",
       " 'delta_run_exp']"
      ]
     },
     "execution_count": 3,
     "metadata": {},
     "output_type": "execute_result"
    }
   ],
   "source": [
    "statcast_era_pitches.columns"
   ]
  },
  {
   "cell_type": "markdown",
   "metadata": {},
   "source": [
    "# Goal\n",
    "\n",
    "The main goal of this project is to be able to predict how well current MLB pitchers are going to be next week, next month and next year (these will probably all be different models). In order to do this, the data will have to be structured a certain way.\n",
    "\n",
    "I think that I am going to try and build a model that predicts performance on the game level, then to project the next week, we put all predictions together for the teams that they will be facing. If we do this for all pitchers on a team for every game in an upcoming week, we can see what pitchers should be throwing more against certain teams. \n"
   ]
  },
  {
   "cell_type": "markdown",
   "metadata": {},
   "source": [
    "##### Targets(s)\n",
    "- Pitcher expected run value (delta_run_exp / some pitch amount)"
   ]
  },
  {
   "cell_type": "code",
   "execution_count": 4,
   "metadata": {},
   "outputs": [
    {
     "data": {
      "text/html": [
       "<div><style>\n",
       ".dataframe > thead > tr,\n",
       ".dataframe > tbody > tr {\n",
       "  text-align: right;\n",
       "  white-space: pre-wrap;\n",
       "}\n",
       "</style>\n",
       "<small>shape: (5, 2)</small><table border=\"1\" class=\"dataframe\"><thead><tr><th>pitcher</th><th>delta_run_exp_per_50_pitches</th></tr><tr><td>i32</td><td>f64</td></tr></thead><tbody><tr><td>434442</td><td>0.027083</td></tr><tr><td>594792</td><td>6.7</td></tr><tr><td>642232</td><td>-0.888732</td></tr><tr><td>623352</td><td>-1.813333</td></tr><tr><td>656794</td><td>5.409574</td></tr></tbody></table></div>"
      ],
      "text/plain": [
       "shape: (5, 2)\n",
       "┌─────────┬──────────────────────────────┐\n",
       "│ pitcher ┆ delta_run_exp_per_50_pitches │\n",
       "│ ---     ┆ ---                          │\n",
       "│ i32     ┆ f64                          │\n",
       "╞═════════╪══════════════════════════════╡\n",
       "│ 434442  ┆ 0.027083                     │\n",
       "│ 594792  ┆ 6.7                          │\n",
       "│ 642232  ┆ -0.888732                    │\n",
       "│ 623352  ┆ -1.813333                    │\n",
       "│ 656794  ┆ 5.409574                     │\n",
       "└─────────┴──────────────────────────────┘"
      ]
     },
     "execution_count": 4,
     "metadata": {},
     "output_type": "execute_result"
    }
   ],
   "source": [
    "# calculate each pitchers total delta_run_exp per 50 pitches in each of their outings\n",
    "\n",
    "PER_PITCHES: int = 50\n",
    "\n",
    "pitchers_delta_run_exp = (\n",
    "    statcast_era_pitches.group_by(\"game_pk\", \"pitcher\")\n",
    "    # aggregate the delta_run_exp and count the number of pitches in each outing\n",
    "    .agg(\n",
    "        pl.sum(\"delta_run_exp\").alias(\"total_delta_run_exp\"),\n",
    "        pl.count(\"delta_run_exp\").alias(\"total_pitches\"),\n",
    "    )\n",
    "    # calculate the delta_run_exp per 50 pitches\n",
    "    .with_columns([\n",
    "        (pl.col(\"total_delta_run_exp\") / pl.col(\"total_pitches\") * PER_PITCHES).alias(\"delta_run_exp_per_50_pitches\"),\n",
    "    ])\n",
    ")\n",
    "\n",
    "pitchers_delta_run_exp.select([\"pitcher\", \"delta_run_exp_per_50_pitches\"]).sample(5)"
   ]
  },
  {
   "cell_type": "code",
   "execution_count": null,
   "metadata": {},
   "outputs": [],
   "source": [
    "# 'append' this to the original DataFrame so that each pitch has the delta_run_exp per 50 pitches for that specific outing\n"
   ]
  },
  {
   "cell_type": "markdown",
   "metadata": {},
   "source": [
    "##### Features\n",
    "(might do feature selection, or PCA to shrink this very highly dimensional dataset)\n",
    "- Statcast metrics of players on teams that the pitchers team will be facing\n",
    "- Split statcast metrics against hitters of similar hitting profiles\n",
    "- The pitches that the pitcher throws"
   ]
  },
  {
   "cell_type": "markdown",
   "metadata": {},
   "source": []
  }
 ],
 "metadata": {
  "kernelspec": {
   "display_name": "venv",
   "language": "python",
   "name": "python3"
  },
  "language_info": {
   "codemirror_mode": {
    "name": "ipython",
    "version": 3
   },
   "file_extension": ".py",
   "mimetype": "text/x-python",
   "name": "python",
   "nbconvert_exporter": "python",
   "pygments_lexer": "ipython3",
   "version": "3.12.3"
  }
 },
 "nbformat": 4,
 "nbformat_minor": 2
}
