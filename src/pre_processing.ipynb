{
 "cells": [
  {
   "cell_type": "markdown",
   "metadata": {},
   "source": [
    "# BSBL-Tomorrow Pre-Processing\n",
    "\n",
    "Author: Jensen Holm <br>\n",
    "April 2024"
   ]
  },
  {
   "cell_type": "code",
   "execution_count": 1,
   "metadata": {},
   "outputs": [],
   "source": [
    "from constants import DATA_DIR, COMPRESSION\n",
    "import polars as pl\n",
    "import requests\n",
    "import os"
   ]
  },
  {
   "cell_type": "code",
   "execution_count": 2,
   "metadata": {},
   "outputs": [
    {
     "name": "stdout",
     "output_type": "stream",
     "text": [
      "https://huggingface.co/api/datasets/Jensen-holm/statcast-era-pitches/parquet/default/train/0.parquet\n"
     ]
    }
   ],
   "source": [
    "# get the url for our dataset of all statcast era pitches (2015-2023)\n",
    "# from the huggingface API\n",
    "PARQUET_URL = requests.get(\n",
    "    \"https://huggingface.co/api/datasets/Jensen-holm/statcast-era-pitches/parquet/default/train\",\n",
    ").json()[0]\n",
    "\n",
    "print(PARQUET_URL)"
   ]
  },
  {
   "cell_type": "code",
   "execution_count": 3,
   "metadata": {},
   "outputs": [
    {
     "name": "stdout",
     "output_type": "stream",
     "text": [
      "shape: (3, 92)\n",
      "┌───────────┬───────────┬───────────┬───────────┬───┬───────────┬───────────┬───────────┬──────────┐\n",
      "│ pitch_typ ┆ game_date ┆ release_s ┆ release_p ┆ … ┆ of_fieldi ┆ spin_axis ┆ delta_hom ┆ delta_ru │\n",
      "│ e         ┆ ---       ┆ peed      ┆ os_x      ┆   ┆ ng_alignm ┆ ---       ┆ e_win_exp ┆ n_exp    │\n",
      "│ ---       ┆ str       ┆ ---       ┆ ---       ┆   ┆ ent       ┆ f32       ┆ ---       ┆ ---      │\n",
      "│ str       ┆           ┆ f32       ┆ f32       ┆   ┆ ---       ┆           ┆ f32       ┆ f32      │\n",
      "│           ┆           ┆           ┆           ┆   ┆ str       ┆           ┆           ┆          │\n",
      "╞═══════════╪═══════════╪═══════════╪═══════════╪═══╪═══════════╪═══════════╪═══════════╪══════════╡\n",
      "│ CH        ┆ 2022-04-1 ┆ 88.300003 ┆ -1.7      ┆ … ┆ Standard  ┆ 237.0     ┆ 0.0       ┆ -0.024   │\n",
      "│           ┆ 6 00:00:0 ┆           ┆           ┆   ┆           ┆           ┆           ┆          │\n",
      "│           ┆ 0.0000000 ┆           ┆           ┆   ┆           ┆           ┆           ┆          │\n",
      "│           ┆ 00        ┆           ┆           ┆   ┆           ┆           ┆           ┆          │\n",
      "│ FF        ┆ 2015-04-2 ┆ 91.800003 ┆ -2.07     ┆ … ┆ Standard  ┆ null      ┆ 0.0       ┆ -0.021   │\n",
      "│           ┆ 1 00:00:0 ┆           ┆           ┆   ┆           ┆           ┆           ┆          │\n",
      "│           ┆ 0.0000000 ┆           ┆           ┆   ┆           ┆           ┆           ┆          │\n",
      "│           ┆ 00        ┆           ┆           ┆   ┆           ┆           ┆           ┆          │\n",
      "│ SI        ┆ 2017-08-2 ┆ 98.0      ┆ -0.72     ┆ … ┆ Standard  ┆ 230.0     ┆ 0.0       ┆ 0.034    │\n",
      "│           ┆ 2 00:00:0 ┆           ┆           ┆   ┆           ┆           ┆           ┆          │\n",
      "│           ┆ 0.0000000 ┆           ┆           ┆   ┆           ┆           ┆           ┆          │\n",
      "│           ┆ 00        ┆           ┆           ┆   ┆           ┆           ┆           ┆          │\n",
      "└───────────┴───────────┴───────────┴───────────┴───┴───────────┴───────────┴───────────┴──────────┘\n"
     ]
    }
   ],
   "source": [
    "# load the dataset into a polars DataFrame\n",
    "statcast_era_pitches: pl.DataFrame = pl.read_parquet(PARQUET_URL)\n",
    "\n",
    "# print columns and their types so we can see what we're working with\n",
    "print(statcast_era_pitches.sample(3))"
   ]
  },
  {
   "cell_type": "markdown",
   "metadata": {},
   "source": [
    "# Goal\n",
    "\n",
    "The main goal of this project is to be able to predict how well current MLB pitchers are going to be next week, next month and next year (these will probably all be different models). In order to do this, the data will have to be structured a certain way.\n",
    "\n",
    "In order for this to be effective and potentially useful, I want to create a model that will predict the outcome of a plate appearance with decent accuracy. Then, we can string together plate appearance predictions to predict how well a pitcher fairs against a team per 9 innings, or by a pitch amount instead maybe (whatever yeilds better results). \n",
    "\n",
    "It will probably be computationally expensive, but one way a team could use this to project what bullpen pitchers they want to save for which teams that they are going to face."
   ]
  },
  {
   "cell_type": "markdown",
   "metadata": {},
   "source": [
    "##### Targets(s)\n",
    "- Pitcher expected run value (expected & regular woba during outing)"
   ]
  },
  {
   "cell_type": "markdown",
   "metadata": {},
   "source": [
    "##### Features\n",
    "(might do feature selection, or PCA to shrink this very highly dimensional dataset)\n",
    "- Statcast metrics of players on teams that the pitchers team will be facing\n",
    "- Split statcast metrics against hitters of similar hitting profiles\n",
    "- The pitches that the pitcher throws"
   ]
  },
  {
   "cell_type": "code",
   "execution_count": 4,
   "metadata": {},
   "outputs": [
    {
     "name": "stdout",
     "output_type": "stream",
     "text": [
      "shape: (163_452, 7)\n",
      "┌─────────┬───────────┬───────────┬─────────┬───────────────┬───────────────┬───────────────────┐\n",
      "│ game_pk ┆ home_team ┆ away_team ┆ pitcher ┆ batters_faced ┆ total_pitches ┆ outing_woba_value │\n",
      "│ ---     ┆ ---       ┆ ---       ┆ ---     ┆ ---           ┆ ---           ┆ ---               │\n",
      "│ i32     ┆ str       ┆ str       ┆ i32     ┆ u32           ┆ u32           ┆ f64               │\n",
      "╞═════════╪═══════════╪═══════════╪═════════╪═══════════════╪═══════════════╪═══════════════════╡\n",
      "│ 531461  ┆ MIA       ┆ TOR       ┆ 621295  ┆ 6             ┆ 22            ┆ 0.0               │\n",
      "│ 565294  ┆ CIN       ┆ AZ        ┆ 543101  ┆ 9             ┆ 91            ┆ 0.794444          │\n",
      "│ 414289  ┆ ATL       ┆ MIL       ┆ 519293  ┆ 6             ┆ 23            ┆ 0.15              │\n",
      "│ 633269  ┆ MIA       ┆ SD        ┆ 669622  ┆ 4             ┆ 16            ┆ 0.175             │\n",
      "│ 633760  ┆ NYM       ┆ ATL       ┆ 607625  ┆ 5             ┆ 22            ┆ 0.54              │\n",
      "│ …       ┆ …         ┆ …         ┆ …       ┆ …             ┆ …             ┆ …                 │\n",
      "│ 565106  ┆ BOS       ┆ BAL       ┆ 542947  ┆ 4             ┆ 7             ┆ 0.225             │\n",
      "│ 530199  ┆ PIT       ┆ CHC       ┆ 458677  ┆ 3             ┆ 10            ┆ 0.0               │\n",
      "│ 641968  ┆ SF        ┆ CIN       ┆ 459429  ┆ 3             ┆ 7             ┆ 0.0               │\n",
      "│ 529497  ┆ STL       ┆ AZ        ┆ 595411  ┆ 3             ┆ 11            ┆ 0.3               │\n",
      "│ 491202  ┆ SD        ┆ DET       ┆ 605242  ┆ 10            ┆ 101           ┆ 0.445             │\n",
      "└─────────┴───────────┴───────────┴─────────┴───────────────┴───────────────┴───────────────────┘\n"
     ]
    }
   ],
   "source": [
    "# calculate a pitchers mean woba_value for each outing, this is a metric\n",
    "# that might be useful to know, especially if we can predict it well\n",
    "\n",
    "PITCH_MINIMUM: int = 0\n",
    "\n",
    "pitchers_outings_df: pl.DataFrame = (\n",
    "    statcast_era_pitches.group_by(\"game_pk\", \"home_team\", \"away_team\", \"pitcher\")\n",
    "    .agg(\n",
    "        pl.sum(\"woba_value\").alias(\"total_woba_value\"),\n",
    "        pl.col(\"batter\").unique().len().alias(\"batters_faced\"),\n",
    "        pl.len().alias(\"total_pitches\"),\n",
    "    )\n",
    "    .filter(pl.col(\"total_pitches\") >= PITCH_MINIMUM)\n",
    "    .with_columns(outing_woba_value=pl.col(\"total_woba_value\") / pl.col(\"batters_faced\"))\n",
    "    .drop(\"total_woba_value\")\n",
    ")\n",
    "\n",
    "print(pitchers_outings_df)"
   ]
  },
  {
   "cell_type": "code",
   "execution_count": null,
   "metadata": {},
   "outputs": [],
   "source": []
  }
 ],
 "metadata": {
  "kernelspec": {
   "display_name": "venv",
   "language": "python",
   "name": "python3"
  },
  "language_info": {
   "codemirror_mode": {
    "name": "ipython",
    "version": 3
   },
   "file_extension": ".py",
   "mimetype": "text/x-python",
   "name": "python",
   "nbconvert_exporter": "python",
   "pygments_lexer": "ipython3",
   "version": "3.12.3"
  }
 },
 "nbformat": 4,
 "nbformat_minor": 2
}
