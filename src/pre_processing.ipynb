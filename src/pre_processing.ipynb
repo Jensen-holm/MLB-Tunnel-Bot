{
 "cells": [
  {
   "cell_type": "markdown",
   "metadata": {},
   "source": [
    "# BSBL-Tomorrow Pre-Processing\n",
    "\n",
    "Author: Jensen Holm <br>\n",
    "April 2024"
   ]
  },
  {
   "cell_type": "code",
   "execution_count": 1,
   "metadata": {},
   "outputs": [],
   "source": [
    "from constants import DATA_DIR, COMPRESSION\n",
    "import polars as pl\n",
    "import requests\n",
    "import os"
   ]
  },
  {
   "cell_type": "code",
   "execution_count": 2,
   "metadata": {},
   "outputs": [
    {
     "name": "stdout",
     "output_type": "stream",
     "text": [
      "https://huggingface.co/api/datasets/Jensen-holm/statcast-era-pitches/parquet/default/train/0.parquet\n"
     ]
    }
   ],
   "source": [
    "# get the url for our dataset of all statcast era pitches (2015-2023)\n",
    "# from the huggingface API\n",
    "PARQUET_URL = requests.get(\n",
    "    \"https://huggingface.co/api/datasets/Jensen-holm/statcast-era-pitches/parquet/default/train\",\n",
    ").json()[0]\n",
    "\n",
    "print(PARQUET_URL)"
   ]
  },
  {
   "cell_type": "code",
   "execution_count": 3,
   "metadata": {},
   "outputs": [
    {
     "name": "stdout",
     "output_type": "stream",
     "text": [
      "Rows: 5\n",
      "Columns: 92\n",
      "$ pitch_type                      <str> 'FF', 'CH', 'FF', 'FC', 'SL'\n",
      "$ game_date                       <str> '2015-08-28 00:00:00.000000000', '2021-10-01 00:00:00.000000000', '2022-08-31 00:00:00.000000000', '2022-08-17 00:00:00.000000000', '2016-07-24 00:00:00.000000000'\n",
      "$ release_speed                   <f32> 93.9000015258789, 86.0999984741211, 93.5, 97.19999694824219, 85.0\n",
      "$ release_pos_x                   <f32> -2.369999885559082, -1.6100000143051147, -1.899999976158142, -0.7900000214576721, 2.7799999713897705\n",
      "$ release_pos_z                   <f32> 6.230000019073486, 5.789999961853027, 6.5, 6.150000095367432, 5.840000152587891\n",
      "$ player_name                     <str> 'Feliz, Neftalí', 'Lorenzen, Michael', 'McKenzie, Triston', 'Clase, Emmanuel', 'Alvarez, Jose'\n",
      "$ batter                          <i32> 572365, 660829, 623993, 570731, 621043\n",
      "$ pitcher                         <i32> 491703, 547179, 663474, 661403, 501625\n",
      "$ events                          <str> None, 'single', None, 'field_out', 'single'\n",
      "$ description                     <str> 'called_strike', 'hit_into_play', 'ball', 'hit_into_play', 'hit_into_play'\n",
      "$ spin_dir                        <i64> None, None, None, None, None\n",
      "$ spin_rate_deprecated            <i64> None, None, None, None, None\n",
      "$ break_angle_deprecated          <i64> None, None, None, None, None\n",
      "$ break_length_deprecated         <i64> None, None, None, None, None\n",
      "$ zone                            <f32> 4.0, 4.0, 14.0, 8.0, 4.0\n",
      "$ des                             <str> 'Ryan Goins strikes out swinging.', 'Hoy Park singles on a line drive to right fielder Nick Castellanos.   Michael Perez scores.    Kevin Newman to 3rd.', 'Anthony Santander strikes out swinging.', 'Jonathan Schoop grounds out, second baseman Andres Gimenez to first baseman Owen Miller.', 'Carlos Correa singles on a sharp ground ball to left fielder Daniel Nava.   Danny Worth scores.    Jose Altuve to 2nd.'\n",
      "$ game_type                       <str> 'R', 'R', 'R', 'R', 'R'\n",
      "$ stand                           <str> 'L', 'L', 'L', 'R', 'R'\n",
      "$ p_throws                        <str> 'R', 'R', 'R', 'R', 'L'\n",
      "$ home_team                       <str> 'TOR', 'PIT', 'CLE', 'CLE', 'HOU'\n",
      "$ away_team                       <str> 'DET', 'CIN', 'BAL', 'DET', 'LAA'\n",
      "$ type                            <str> 'S', 'X', 'B', 'X', 'X'\n",
      "$ hit_location                    <f32> None, 9.0, None, 4.0, 7.0\n",
      "$ bb_type                         <str> None, 'line_drive', None, 'ground_ball', 'ground_ball'\n",
      "$ balls                           <i32> 0, 1, 0, 2, 0\n",
      "$ strikes                         <i32> 1, 2, 0, 1, 0\n",
      "$ game_year                       <i32> 2015, 2021, 2022, 2022, 2016\n",
      "$ pfx_x                           <f32> -1.1699999570846558, -1.090000033378601, -0.18000000715255737, 0.5699999928474426, 0.2199999988079071\n",
      "$ pfx_z                           <f32> 1.5499999523162842, 1.1699999570846558, 2.0199999809265137, 0.7400000095367432, 1.1200000047683716\n",
      "$ plate_x                         <f32> -0.5699999928474426, -0.3700000047683716, 0.20999999344348907, -0.27000001072883606, -0.38999998569488525\n",
      "$ plate_z                         <f32> 2.2899999618530273, 2.6700000762939453, 1.1699999570846558, 1.8799999952316284, 2.319999933242798\n",
      "$ on_3b                           <i32> None, None, None, None, None\n",
      "$ on_2b                           <i32> None, 605421, None, None, 519445\n",
      "$ on_1b                           <i32> 607680, 621028, None, None, 514888\n",
      "$ outs_when_up                    <i32> 1, 1, 2, 0, 2\n",
      "$ inning                          <f32> 8.0, 8.0, 5.0, 9.0, 5.0\n",
      "$ inning_topbot                   <str> 'Bot', 'Bot', 'Top', 'Top', 'Bot'\n",
      "$ hc_x                            <f64> None, 183.02, None, 145.62, 74.1\n",
      "$ hc_y                            <f64> None, 110.42, None, 153.18, 128.01\n",
      "$ tfs_deprecated                  <i64> None, None, None, None, None\n",
      "$ tfs_zulu_deprecated             <i64> None, None, None, None, None\n",
      "$ fielder_2                       <i32> 543510, 571466, 571912, 595978, 542908\n",
      "$ umpire                          <i64> None, None, None, None, None\n",
      "$ sv_id                           <str> '150828_212702', None, None, None, '160724_150422'\n",
      "$ vx0                             <f32> 7.689326286315918, 5.110754489898682, 5.862551212310791, 0.09539864957332611, -7.923803806304932\n",
      "$ vy0                             <f32> -137.26268005371094, -125.41097259521484, -135.52806091308594, -141.57986450195312, -124.35629272460938\n",
      "$ vz0                             <f32> -7.416502952575684, -3.6058459281921387, -12.493706703186035, -7.723395824432373, -3.307966947555542\n",
      "$ ax                              <f32> -16.000999450683594, -12.564858436584473, -3.4021458625793457, 7.687433242797852, 3.7939999103546143\n",
      "$ ay                              <f32> 27.777000427246094, 22.374406814575195, 28.441373825073242, 29.049671173095703, 25.475000381469727\n",
      "$ az                              <f32> -11.597999572753906, -19.246490478515625, -4.7786993980407715, -20.76978874206543, -20.347000122070312\n",
      "$ sz_top                          <f32> 3.4600000381469727, 3.4100000858306885, 3.3499999046325684, 3.5, 3.619999885559082\n",
      "$ sz_bot                          <f32> 1.4900000095367432, 1.559999942779541, 1.6699999570846558, 1.6699999570846558, 1.6699999570846558\n",
      "$ hit_distance_sc                 <i64> None, 190, None, 18, 164\n",
      "$ launch_speed                    <f32> None, 79.9000015258789, None, 85.5, 110.0\n",
      "$ launch_angle                    <f32> None, 16.0, None, -5.0, 8.0\n",
      "$ effective_speed                 <f32> 93.30000305175781, 85.69999694824219, 94.0999984741211, 98.0, 84.5999984741211\n",
      "$ release_spin_rate               <i64> 2392, 2067, 2486, 2693, 2314\n",
      "$ release_extension               <f32> 6.099999904632568, 5.699999809265137, 6.800000190734863, 6.5, 6.300000190734863\n",
      "$ game_pk                         <i32> 415564, 632250, 662972, 662951, 448334\n",
      "$ pitcher.1                       <i64> 491703, 547179, 663474, 661403, 501625\n",
      "$ fielder_2.1                     <i64> 543510, 571466, 571912, 595978, 542908\n",
      "$ fielder_3                       <i32> 408234, 458015, 647304, 680911, 596847\n",
      "$ fielder_4                       <i32> 435079, 663697, 665926, 665926, 463610\n",
      "$ fielder_5                       <i32> 592206, 553993, 608070, 608070, 488862\n",
      "$ fielder_6                       <i32> 578428, 676480, 642708, 642708, 592743\n",
      "$ fielder_7                       <i32> 434658, 663886, 680757, 680757, 537953\n",
      "$ fielder_8                       <i32> 543238, 670770, 666181, 664702, 545361\n",
      "$ fielder_9                       <i32> 502110, 592206, 660757, 660757, 594777\n",
      "$ release_pos_y                   <f32> 54.5, 54.77000045776367, 53.720001220703125, 54.0099983215332, 54.5\n",
      "$ estimated_ba_using_speedangle   <f32> None, 0.8999999761581421, None, 0.13099999725818634, 0.7929999828338623\n",
      "$ estimated_woba_using_speedangle <f32> None, 0.8309999704360962, None, 0.11800000071525574, 0.7990000247955322\n",
      "$ woba_value                      <f32> None, 0.8999999761581421, None, 0.0, 0.8999999761581421\n",
      "$ woba_denom                      <f32> None, 1.0, None, 1.0, 1.0\n",
      "$ babip_value                     <f32> None, 1.0, None, 0.0, 1.0\n",
      "$ iso_value                       <f32> None, 0.0, None, 0.0, 0.0\n",
      "$ launch_speed_angle              <f32> None, 4.0, None, 2.0, 4.0\n",
      "$ at_bat_number                   <i32> 66, 65, 38, 77, 51\n",
      "$ pitch_number                    <i32> 2, 4, 1, 4, 1\n",
      "$ pitch_name                      <str> '4-Seam Fastball', 'Changeup', '4-Seam Fastball', 'Cutter', 'Slider'\n",
      "$ home_score                      <i32> 5, 4, 0, 8, 11\n",
      "$ away_score                      <i32> 3, 1, 2, 4, 1\n",
      "$ bat_score                       <i32> 5, 4, 2, 4, 11\n",
      "$ fld_score                       <i64> 3, 1, 0, 8, 1\n",
      "$ post_away_score                 <i32> 3, 1, 2, 4, 1\n",
      "$ post_home_score                 <i32> 5, 5, 0, 8, 12\n",
      "$ post_bat_score                  <i32> 5, 5, 2, 4, 12\n",
      "$ post_fld_score                  <i64> 3, 1, 0, 8, 1\n",
      "$ if_fielding_alignment           <str> 'Standard', 'Standard', 'Infield shift', 'Strategic', 'Standard'\n",
      "$ of_fielding_alignment           <str> 'Standard', 'Standard', 'Standard', 'Standard', 'Standard'\n",
      "$ spin_axis                       <f32> None, 238.0, 189.0, 169.0, 217.0\n",
      "$ delta_home_win_exp              <f32> 0.004999999888241291, 0.014000000432133675, 0.0, 0.00800000037997961, 0.0\n",
      "$ delta_run_exp                   <f32> -0.0560000017285347, 1.0679999589920044, 0.014999999664723873, -0.26100000739097595, 0.8529999852180481\n",
      "\n"
     ]
    }
   ],
   "source": [
    "# load the dataset into a polars DataFrame\n",
    "statcast_era_pitches: pl.DataFrame = pl.read_parquet(PARQUET_URL)\n",
    "\n",
    "# print columns and their types so we can see what we're working with\n",
    "statcast_era_pitches.sample(5).glimpse()"
   ]
  },
  {
   "cell_type": "code",
   "execution_count": 4,
   "metadata": {},
   "outputs": [
    {
     "data": {
      "text/plain": [
       "['pitch_type',\n",
       " 'game_date',\n",
       " 'release_speed',\n",
       " 'release_pos_x',\n",
       " 'release_pos_z',\n",
       " 'player_name',\n",
       " 'batter',\n",
       " 'pitcher',\n",
       " 'events',\n",
       " 'description',\n",
       " 'spin_dir',\n",
       " 'spin_rate_deprecated',\n",
       " 'break_angle_deprecated',\n",
       " 'break_length_deprecated',\n",
       " 'zone',\n",
       " 'des',\n",
       " 'game_type',\n",
       " 'stand',\n",
       " 'p_throws',\n",
       " 'home_team',\n",
       " 'away_team',\n",
       " 'type',\n",
       " 'hit_location',\n",
       " 'bb_type',\n",
       " 'balls',\n",
       " 'strikes',\n",
       " 'game_year',\n",
       " 'pfx_x',\n",
       " 'pfx_z',\n",
       " 'plate_x',\n",
       " 'plate_z',\n",
       " 'on_3b',\n",
       " 'on_2b',\n",
       " 'on_1b',\n",
       " 'outs_when_up',\n",
       " 'inning',\n",
       " 'inning_topbot',\n",
       " 'hc_x',\n",
       " 'hc_y',\n",
       " 'tfs_deprecated',\n",
       " 'tfs_zulu_deprecated',\n",
       " 'fielder_2',\n",
       " 'umpire',\n",
       " 'sv_id',\n",
       " 'vx0',\n",
       " 'vy0',\n",
       " 'vz0',\n",
       " 'ax',\n",
       " 'ay',\n",
       " 'az',\n",
       " 'sz_top',\n",
       " 'sz_bot',\n",
       " 'hit_distance_sc',\n",
       " 'launch_speed',\n",
       " 'launch_angle',\n",
       " 'effective_speed',\n",
       " 'release_spin_rate',\n",
       " 'release_extension',\n",
       " 'game_pk',\n",
       " 'pitcher.1',\n",
       " 'fielder_2.1',\n",
       " 'fielder_3',\n",
       " 'fielder_4',\n",
       " 'fielder_5',\n",
       " 'fielder_6',\n",
       " 'fielder_7',\n",
       " 'fielder_8',\n",
       " 'fielder_9',\n",
       " 'release_pos_y',\n",
       " 'estimated_ba_using_speedangle',\n",
       " 'estimated_woba_using_speedangle',\n",
       " 'woba_value',\n",
       " 'woba_denom',\n",
       " 'babip_value',\n",
       " 'iso_value',\n",
       " 'launch_speed_angle',\n",
       " 'at_bat_number',\n",
       " 'pitch_number',\n",
       " 'pitch_name',\n",
       " 'home_score',\n",
       " 'away_score',\n",
       " 'bat_score',\n",
       " 'fld_score',\n",
       " 'post_away_score',\n",
       " 'post_home_score',\n",
       " 'post_bat_score',\n",
       " 'post_fld_score',\n",
       " 'if_fielding_alignment',\n",
       " 'of_fielding_alignment',\n",
       " 'spin_axis',\n",
       " 'delta_home_win_exp',\n",
       " 'delta_run_exp']"
      ]
     },
     "execution_count": 4,
     "metadata": {},
     "output_type": "execute_result"
    }
   ],
   "source": [
    "statcast_era_pitches.columns"
   ]
  },
  {
   "cell_type": "markdown",
   "metadata": {},
   "source": [
    "# Goal\n",
    "\n",
    "The main goal of this project is to be able to predict how well current MLB pitchers are going to be next week, next month and next year (these will probably all be different models). In order to do this, the data will have to be structured a certain way.\n",
    "\n",
    "I think that I am going to try and build a model that predicts performance on the game level, then to project the next week, we put all predictions together for the teams that they will be facing. If we do this for all pitchers on a team for every game in an upcoming week, we can see what pitchers should be throwing more against certain teams. \n"
   ]
  },
  {
   "cell_type": "markdown",
   "metadata": {},
   "source": [
    "##### Targets(s)\n",
    "- Pitcher expected run value (delta_run_exp / some pitch amount)"
   ]
  },
  {
   "cell_type": "markdown",
   "metadata": {},
   "source": [
    "##### Features\n",
    "(might do feature selection, or PCA to shrink this very highly dimensional dataset)\n",
    "- Statcast metrics of players on teams that the pitchers team will be facing\n",
    "- Split statcast metrics against hitters of similar hitting profiles\n",
    "- The pitches that the pitcher throws"
   ]
  },
  {
   "cell_type": "code",
   "execution_count": 5,
   "metadata": {},
   "outputs": [
    {
     "name": "stdout",
     "output_type": "stream",
     "text": [
      "Rows: 47745\n",
      "Columns: 7\n",
      "$ game_pk                       <i32> 447157, 630968, 564807, 566418, 413902, 566512, 663191, 631172, 530353, 531501\n",
      "$ home_team                     <str> 'DET', 'TB', 'LAA', 'SEA', 'CIN', 'SF', 'BOS', 'OAK', 'CHC', 'OAK'\n",
      "$ away_team                     <str> 'OAK', 'TOR', 'TB', 'OAK', 'CHC', 'AZ', 'CLE', 'COL', 'PIT', 'NYY'\n",
      "$ pitcher                       <i32> 519455, 670950, 642545, 605135, 571561, 595881, 543135, 608566, 641771, 570666\n",
      "$ total_delta_run_exp           <f32> -1.2750000953674316, 1.0260003805160522, -2.0949997901916504, 2.2430005073547363, 3.9850001335144043, 0.0140000581741333, 1.7540000677108765, -1.9970004558563232, -0.18800032138824463, -0.15199995040893555\n",
      "$ total_pitches                 <u32> 102, 40, 89, 78, 66, 84, 95, 95, 111, 40\n",
      "$ delta_run_exp_per_100_pitches <f64> -1.250000093497482, 2.5650009512901306, -2.3539323485299444, 2.8756416760958157, 6.03787899017334, 0.016666735921587263, 1.8463158607482912, -2.102105743006656, -0.1693696589083285, -0.37999987602233887\n",
      "\n"
     ]
    }
   ],
   "source": [
    "# calculate each pitchers total delta_run_exp per 50 pitches in each of their outings\n",
    "# we want to pair this with the aggregate statcast metrics of the batters they faced against\n",
    "# similar pitching to the current pitcher.\n",
    "\n",
    "PER_PITCHES: int = 100\n",
    "PITCH_MINIMUM: int = 30\n",
    "\n",
    "pitchers_outings = (\n",
    "    statcast_era_pitches.group_by(\"game_pk\", \"home_team\", \"away_team\", \"pitcher\").agg(\n",
    "        # aggregate the delta_run_exp and count the number of pitches in each outing\n",
    "        pl.sum(\"delta_run_exp\").alias(\"total_delta_run_exp\"),\n",
    "        pl.count(\"delta_run_exp\").alias(\"total_pitches\"),\n",
    "        # aggregate the hitters metrics in games before this outing\n",
    "        # ...\n",
    "    )\n",
    "    # remove outings with less than the minimum\n",
    "    .filter(pl.col(\"total_pitches\") > PITCH_MINIMUM)\n",
    "    # calculate the delta_run_exp per PER_PITCHES\n",
    "    .with_columns(\n",
    "        [\n",
    "            # delta run_exp per PER_PITCHES pitches\n",
    "            (\n",
    "                pl.col(\"total_delta_run_exp\") / pl.col(\"total_pitches\") * PER_PITCHES\n",
    "            ).alias(f\"delta_run_exp_per_{PER_PITCHES}_pitches\"),\n",
    "            # statcast metrics that describe the batters that the pitcher is facing\n",
    "            # ...\n",
    "        ]\n",
    "    )\n",
    ")\n",
    "\n",
    "pitchers_outings.glimpse()"
   ]
  },
  {
   "cell_type": "code",
   "execution_count": 6,
   "metadata": {},
   "outputs": [],
   "source": [
    "# save the DataFrame to a parquet file\n",
    "pitchers_outings.write_parquet(\n",
    "    os.path.join(DATA_DIR, \"pitchers_outings.parquet\"),\n",
    "    compression=COMPRESSION,\n",
    ")"
   ]
  }
 ],
 "metadata": {
  "kernelspec": {
   "display_name": "venv",
   "language": "python",
   "name": "python3"
  },
  "language_info": {
   "codemirror_mode": {
    "name": "ipython",
    "version": 3
   },
   "file_extension": ".py",
   "mimetype": "text/x-python",
   "name": "python",
   "nbconvert_exporter": "python",
   "pygments_lexer": "ipython3",
   "version": "3.12.3"
  }
 },
 "nbformat": 4,
 "nbformat_minor": 2
}
