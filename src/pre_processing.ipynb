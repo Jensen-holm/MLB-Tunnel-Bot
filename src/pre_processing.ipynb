{
 "cells": [
  {
   "cell_type": "markdown",
   "metadata": {},
   "source": [
    "# BSBL-Tomorrow Pre-Processing\n",
    "\n",
    "Author: Jensen Holm <br>\n",
    "April 2024"
   ]
  },
  {
   "cell_type": "code",
   "execution_count": 11,
   "metadata": {},
   "outputs": [
    {
     "name": "stdout",
     "output_type": "stream",
     "text": [
      "https://huggingface.co/api/datasets/Jensen-holm/statcast-era-pitches/parquet/default/train/0.parquet\n"
     ]
    }
   ],
   "source": [
    "import requests\n",
    "\n",
    "# get the url for our dataset of all statcast era pitches (2015-2023)\n",
    "# from the huggingface API\n",
    "PARQUET_URL = requests.get(\n",
    "    \"https://huggingface.co/api/datasets/Jensen-holm/statcast-era-pitches/parquet/default/train\"\n",
    ").json()[0]\n",
    "\n",
    "print(PARQUET_URL)"
   ]
  },
  {
   "cell_type": "code",
   "execution_count": 15,
   "metadata": {},
   "outputs": [
    {
     "data": {
      "text/html": [
       "<div><style>\n",
       ".dataframe > thead > tr,\n",
       ".dataframe > tbody > tr {\n",
       "  text-align: right;\n",
       "  white-space: pre-wrap;\n",
       "}\n",
       "</style>\n",
       "<small>shape: (5, 92)</small><table border=\"1\" class=\"dataframe\"><thead><tr><th>pitch_type</th><th>game_date</th><th>release_speed</th><th>release_pos_x</th><th>release_pos_z</th><th>player_name</th><th>batter</th><th>pitcher</th><th>events</th><th>description</th><th>spin_dir</th><th>spin_rate_deprecated</th><th>break_angle_deprecated</th><th>break_length_deprecated</th><th>zone</th><th>des</th><th>game_type</th><th>stand</th><th>p_throws</th><th>home_team</th><th>away_team</th><th>type</th><th>hit_location</th><th>bb_type</th><th>balls</th><th>strikes</th><th>game_year</th><th>pfx_x</th><th>pfx_z</th><th>plate_x</th><th>plate_z</th><th>on_3b</th><th>on_2b</th><th>on_1b</th><th>outs_when_up</th><th>inning</th><th>inning_topbot</th><th>&hellip;</th><th>effective_speed</th><th>release_spin_rate</th><th>release_extension</th><th>game_pk</th><th>pitcher.1</th><th>fielder_2.1</th><th>fielder_3</th><th>fielder_4</th><th>fielder_5</th><th>fielder_6</th><th>fielder_7</th><th>fielder_8</th><th>fielder_9</th><th>release_pos_y</th><th>estimated_ba_using_speedangle</th><th>estimated_woba_using_speedangle</th><th>woba_value</th><th>woba_denom</th><th>babip_value</th><th>iso_value</th><th>launch_speed_angle</th><th>at_bat_number</th><th>pitch_number</th><th>pitch_name</th><th>home_score</th><th>away_score</th><th>bat_score</th><th>fld_score</th><th>post_away_score</th><th>post_home_score</th><th>post_bat_score</th><th>post_fld_score</th><th>if_fielding_alignment</th><th>of_fielding_alignment</th><th>spin_axis</th><th>delta_home_win_exp</th><th>delta_run_exp</th></tr><tr><td>str</td><td>str</td><td>f32</td><td>f32</td><td>f32</td><td>str</td><td>i32</td><td>i32</td><td>str</td><td>str</td><td>i64</td><td>i64</td><td>i64</td><td>i64</td><td>f32</td><td>str</td><td>str</td><td>str</td><td>str</td><td>str</td><td>str</td><td>str</td><td>f32</td><td>str</td><td>i32</td><td>i32</td><td>i32</td><td>f32</td><td>f32</td><td>f32</td><td>f32</td><td>i32</td><td>i32</td><td>i32</td><td>i32</td><td>f32</td><td>str</td><td>&hellip;</td><td>f32</td><td>i64</td><td>f32</td><td>i32</td><td>i64</td><td>i64</td><td>i32</td><td>i32</td><td>i32</td><td>i32</td><td>i32</td><td>i32</td><td>i32</td><td>f32</td><td>f32</td><td>f32</td><td>f32</td><td>f32</td><td>f32</td><td>f32</td><td>f32</td><td>i32</td><td>i32</td><td>str</td><td>i32</td><td>i32</td><td>i32</td><td>i64</td><td>i32</td><td>i32</td><td>i32</td><td>i64</td><td>str</td><td>str</td><td>f32</td><td>f32</td><td>f32</td></tr></thead><tbody><tr><td>&quot;FF&quot;</td><td>&quot;2022-08-29 00:…</td><td>93.199997</td><td>-1.68</td><td>6.02</td><td>&quot;Grove, Michael…</td><td>542932</td><td>675627</td><td>null</td><td>&quot;ball&quot;</td><td>null</td><td>null</td><td>null</td><td>null</td><td>12.0</td><td>&quot;Jon Berti flie…</td><td>&quot;R&quot;</td><td>&quot;R&quot;</td><td>&quot;R&quot;</td><td>&quot;MIA&quot;</td><td>&quot;LAD&quot;</td><td>&quot;B&quot;</td><td>null</td><td>null</td><td>0</td><td>0</td><td>2022</td><td>-0.59</td><td>1.53</td><td>0.71</td><td>3.69</td><td>null</td><td>621563</td><td>null</td><td>0</td><td>1.0</td><td>&quot;Bot&quot;</td><td>&hellip;</td><td>93.0</td><td>2092</td><td>6.5</td><td>661352</td><td>675627</td><td>669257</td><td>518692</td><td>593643</td><td>457759</td><td>607208</td><td>621035</td><td>641355</td><td>608336</td><td>54.049999</td><td>null</td><td>null</td><td>null</td><td>null</td><td>null</td><td>null</td><td>null</td><td>7</td><td>1</td><td>&quot;4-Seam Fastbal…</td><td>0</td><td>0</td><td>0</td><td>0</td><td>0</td><td>0</td><td>0</td><td>0</td><td>&quot;Standard&quot;</td><td>&quot;Strategic&quot;</td><td>205.0</td><td>0.0</td><td>0.055</td></tr><tr><td>&quot;FF&quot;</td><td>&quot;2021-08-02 00:…</td><td>91.5</td><td>-0.57</td><td>5.94</td><td>&quot;Morgan, Eli&quot;</td><td>666182</td><td>669212</td><td>null</td><td>&quot;ball&quot;</td><td>null</td><td>null</td><td>null</td><td>null</td><td>11.0</td><td>&quot;Bo Bichette st…</td><td>&quot;R&quot;</td><td>&quot;R&quot;</td><td>&quot;R&quot;</td><td>&quot;TOR&quot;</td><td>&quot;CLE&quot;</td><td>&quot;B&quot;</td><td>null</td><td>null</td><td>1</td><td>1</td><td>2021</td><td>-0.92</td><td>1.36</td><td>-0.75</td><td>3.82</td><td>null</td><td>null</td><td>null</td><td>1</td><td>4.0</td><td>&quot;Bot&quot;</td><td>&hellip;</td><td>91.300003</td><td>2257</td><td>6.1</td><td>633041</td><td>669212</td><td>595978</td><td>680911</td><td>676391</td><td>608070</td><td>642708</td><td>623912</td><td>664702</td><td>640458</td><td>54.380001</td><td>null</td><td>null</td><td>null</td><td>null</td><td>null</td><td>null</td><td>null</td><td>32</td><td>3</td><td>&quot;4-Seam Fastbal…</td><td>0</td><td>2</td><td>0</td><td>2</td><td>2</td><td>0</td><td>0</td><td>2</td><td>&quot;Standard&quot;</td><td>&quot;Standard&quot;</td><td>213.0</td><td>0.0</td><td>0.038</td></tr><tr><td>&quot;FF&quot;</td><td>&quot;2021-04-12 00:…</td><td>99.199997</td><td>-2.3</td><td>5.58</td><td>&quot;Cole, Gerrit&quot;</td><td>545341</td><td>543037</td><td>&quot;strikeout&quot;</td><td>&quot;called_strike&quot;</td><td>null</td><td>null</td><td>null</td><td>null</td><td>5.0</td><td>&quot;Randal Grichuk…</td><td>&quot;R&quot;</td><td>&quot;R&quot;</td><td>&quot;R&quot;</td><td>&quot;TOR&quot;</td><td>&quot;NYY&quot;</td><td>&quot;S&quot;</td><td>2.0</td><td>null</td><td>2</td><td>2</td><td>2021</td><td>-0.87</td><td>1.44</td><td>-0.11</td><td>1.98</td><td>null</td><td>null</td><td>null</td><td>2</td><td>6.0</td><td>&quot;Bot&quot;</td><td>&hellip;</td><td>99.300003</td><td>2454</td><td>6.5</td><td>632203</td><td>543037</td><td>543309</td><td>518934</td><td>596059</td><td>570482</td><td>650402</td><td>640449</td><td>643565</td><td>592450</td><td>54.0</td><td>null</td><td>null</td><td>0.0</td><td>1.0</td><td>0.0</td><td>0.0</td><td>null</td><td>44</td><td>5</td><td>&quot;4-Seam Fastbal…</td><td>1</td><td>2</td><td>1</td><td>2</td><td>2</td><td>1</td><td>1</td><td>2</td><td>&quot;Standard&quot;</td><td>&quot;Standard&quot;</td><td>222.0</td><td>-0.019</td><td>-0.091</td></tr><tr><td>&quot;CH&quot;</td><td>&quot;2015-06-21 00:…</td><td>84.0</td><td>1.72</td><td>6.67</td><td>&quot;Hand, Brad&quot;</td><td>553993</td><td>543272</td><td>null</td><td>&quot;ball&quot;</td><td>null</td><td>null</td><td>null</td><td>null</td><td>14.0</td><td>&quot;Eugenio Suarez…</td><td>&quot;R&quot;</td><td>&quot;R&quot;</td><td>&quot;L&quot;</td><td>&quot;CIN&quot;</td><td>&quot;MIA&quot;</td><td>&quot;B&quot;</td><td>null</td><td>null</td><td>0</td><td>0</td><td>2015</td><td>1.02</td><td>0.73</td><td>1.14</td><td>1.49</td><td>null</td><td>null</td><td>407781</td><td>1</td><td>8.0</td><td>&quot;Bot&quot;</td><td>&hellip;</td><td>83.0</td><td>1881</td><td>5.7</td><td>414694</td><td>543272</td><td>425772</td><td>571506</td><td>543829</td><td>518618</td><td>588751</td><td>592885</td><td>542303</td><td>519317</td><td>54.5</td><td>null</td><td>null</td><td>null</td><td>null</td><td>null</td><td>null</td><td>null</td><td>66</td><td>1</td><td>&quot;Changeup&quot;</td><td>5</td><td>2</td><td>5</td><td>2</td><td>2</td><td>5</td><td>5</td><td>2</td><td>&quot;Strategic&quot;</td><td>&quot;Standard&quot;</td><td>null</td><td>0.0</td><td>0.032</td></tr><tr><td>&quot;FF&quot;</td><td>&quot;2019-07-04 00:…</td><td>92.199997</td><td>2.43</td><td>6.04</td><td>&quot;Quintana, Jose…</td><td>466320</td><td>500779</td><td>null</td><td>&quot;called_strike&quot;</td><td>null</td><td>null</td><td>null</td><td>null</td><td>3.0</td><td>&quot;Melky Cabrera …</td><td>&quot;R&quot;</td><td>&quot;R&quot;</td><td>&quot;L&quot;</td><td>&quot;PIT&quot;</td><td>&quot;CHC&quot;</td><td>&quot;S&quot;</td><td>null</td><td>null</td><td>0</td><td>0</td><td>2019</td><td>0.47</td><td>1.16</td><td>0.47</td><td>3.2</td><td>null</td><td>null</td><td>null</td><td>0</td><td>2.0</td><td>&quot;Bot&quot;</td><td>&hellip;</td><td>93.699997</td><td>2073</td><td>6.8</td><td>566219</td><td>500779</td><td>575929</td><td>519203</td><td>596825</td><td>623520</td><td>595879</td><td>656941</td><td>546991</td><td>592178</td><td>53.709999</td><td>null</td><td>null</td><td>null</td><td>null</td><td>null</td><td>null</td><td>null</td><td>15</td><td>1</td><td>&quot;4-Seam Fastbal…</td><td>0</td><td>2</td><td>0</td><td>2</td><td>2</td><td>0</td><td>0</td><td>2</td><td>&quot;Standard&quot;</td><td>&quot;Standard&quot;</td><td>158.0</td><td>0.0</td><td>-0.04</td></tr></tbody></table></div>"
      ],
      "text/plain": [
       "shape: (5, 92)\n",
       "┌───────────┬───────────┬───────────┬───────────┬───┬───────────┬───────────┬───────────┬──────────┐\n",
       "│ pitch_typ ┆ game_date ┆ release_s ┆ release_p ┆ … ┆ of_fieldi ┆ spin_axis ┆ delta_hom ┆ delta_ru │\n",
       "│ e         ┆ ---       ┆ peed      ┆ os_x      ┆   ┆ ng_alignm ┆ ---       ┆ e_win_exp ┆ n_exp    │\n",
       "│ ---       ┆ str       ┆ ---       ┆ ---       ┆   ┆ ent       ┆ f32       ┆ ---       ┆ ---      │\n",
       "│ str       ┆           ┆ f32       ┆ f32       ┆   ┆ ---       ┆           ┆ f32       ┆ f32      │\n",
       "│           ┆           ┆           ┆           ┆   ┆ str       ┆           ┆           ┆          │\n",
       "╞═══════════╪═══════════╪═══════════╪═══════════╪═══╪═══════════╪═══════════╪═══════════╪══════════╡\n",
       "│ FF        ┆ 2022-08-2 ┆ 93.199997 ┆ -1.68     ┆ … ┆ Strategic ┆ 205.0     ┆ 0.0       ┆ 0.055    │\n",
       "│           ┆ 9 00:00:0 ┆           ┆           ┆   ┆           ┆           ┆           ┆          │\n",
       "│           ┆ 0.0000000 ┆           ┆           ┆   ┆           ┆           ┆           ┆          │\n",
       "│           ┆ 00        ┆           ┆           ┆   ┆           ┆           ┆           ┆          │\n",
       "│ FF        ┆ 2021-08-0 ┆ 91.5      ┆ -0.57     ┆ … ┆ Standard  ┆ 213.0     ┆ 0.0       ┆ 0.038    │\n",
       "│           ┆ 2 00:00:0 ┆           ┆           ┆   ┆           ┆           ┆           ┆          │\n",
       "│           ┆ 0.0000000 ┆           ┆           ┆   ┆           ┆           ┆           ┆          │\n",
       "│           ┆ 00        ┆           ┆           ┆   ┆           ┆           ┆           ┆          │\n",
       "│ FF        ┆ 2021-04-1 ┆ 99.199997 ┆ -2.3      ┆ … ┆ Standard  ┆ 222.0     ┆ -0.019    ┆ -0.091   │\n",
       "│           ┆ 2 00:00:0 ┆           ┆           ┆   ┆           ┆           ┆           ┆          │\n",
       "│           ┆ 0.0000000 ┆           ┆           ┆   ┆           ┆           ┆           ┆          │\n",
       "│           ┆ 00        ┆           ┆           ┆   ┆           ┆           ┆           ┆          │\n",
       "│ CH        ┆ 2015-06-2 ┆ 84.0      ┆ 1.72      ┆ … ┆ Standard  ┆ null      ┆ 0.0       ┆ 0.032    │\n",
       "│           ┆ 1 00:00:0 ┆           ┆           ┆   ┆           ┆           ┆           ┆          │\n",
       "│           ┆ 0.0000000 ┆           ┆           ┆   ┆           ┆           ┆           ┆          │\n",
       "│           ┆ 00        ┆           ┆           ┆   ┆           ┆           ┆           ┆          │\n",
       "│ FF        ┆ 2019-07-0 ┆ 92.199997 ┆ 2.43      ┆ … ┆ Standard  ┆ 158.0     ┆ 0.0       ┆ -0.04    │\n",
       "│           ┆ 4 00:00:0 ┆           ┆           ┆   ┆           ┆           ┆           ┆          │\n",
       "│           ┆ 0.0000000 ┆           ┆           ┆   ┆           ┆           ┆           ┆          │\n",
       "│           ┆ 00        ┆           ┆           ┆   ┆           ┆           ┆           ┆          │\n",
       "└───────────┴───────────┴───────────┴───────────┴───┴───────────┴───────────┴───────────┴──────────┘"
      ]
     },
     "execution_count": 15,
     "metadata": {},
     "output_type": "execute_result"
    }
   ],
   "source": [
    "import polars as pl\n",
    "\n",
    "# load the dataset into a polars DataFrame\n",
    "statcast_era_pitches: pl.DataFrame = pl.read_parquet(PARQUET_URL)\n",
    "\n",
    "statcast_era_pitches.sample(5)"
   ]
  },
  {
   "cell_type": "code",
   "execution_count": null,
   "metadata": {},
   "outputs": [],
   "source": []
  }
 ],
 "metadata": {
  "kernelspec": {
   "display_name": "venv",
   "language": "python",
   "name": "python3"
  },
  "language_info": {
   "codemirror_mode": {
    "name": "ipython",
    "version": 3
   },
   "file_extension": ".py",
   "mimetype": "text/x-python",
   "name": "python",
   "nbconvert_exporter": "python",
   "pygments_lexer": "ipython3",
   "version": "3.12.3"
  }
 },
 "nbformat": 4,
 "nbformat_minor": 2
}
