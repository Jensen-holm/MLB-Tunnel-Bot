{
 "cells": [
  {
   "cell_type": "markdown",
   "metadata": {},
   "source": [
    "# Tunnel+\n",
    "\n",
    "The overall goal of this notebook is to create a new statistic called Tunnel+ that can measure how well a pitcher is tunneling their pitches."
   ]
  },
  {
   "cell_type": "code",
   "execution_count": 1,
   "metadata": {},
   "outputs": [],
   "source": [
    "from pybaseball.plotting import plot_strike_zone\n",
    "import matplotlib.pyplot as plt\n",
    "import polars as pl\n",
    "import numpy as np"
   ]
  },
  {
   "cell_type": "markdown",
   "metadata": {},
   "source": [
    "### Reading data\n",
    "\n",
    "The data for this project is located in [this hugging face space](https://huggingface.co/datasets/Jensen-holm/statcast-era-pitches) that I made. It contains every single pitch from the modern statcast era up through last year (2015-2023)."
   ]
  },
  {
   "cell_type": "code",
   "execution_count": 2,
   "metadata": {},
   "outputs": [
    {
     "name": "stdout",
     "output_type": "stream",
     "text": [
      "shape: (3, 92)\n",
      "┌───────────┬───────────┬───────────┬───────────┬───┬───────────┬───────────┬───────────┬──────────┐\n",
      "│ pitch_typ ┆ game_date ┆ release_s ┆ release_p ┆ … ┆ of_fieldi ┆ spin_axis ┆ delta_hom ┆ delta_ru │\n",
      "│ e         ┆ ---       ┆ peed      ┆ os_x      ┆   ┆ ng_alignm ┆ ---       ┆ e_win_exp ┆ n_exp    │\n",
      "│ ---       ┆ str       ┆ ---       ┆ ---       ┆   ┆ ent       ┆ f32       ┆ ---       ┆ ---      │\n",
      "│ str       ┆           ┆ f32       ┆ f32       ┆   ┆ ---       ┆           ┆ f32       ┆ f32      │\n",
      "│           ┆           ┆           ┆           ┆   ┆ str       ┆           ┆           ┆          │\n",
      "╞═══════════╪═══════════╪═══════════╪═══════════╪═══╪═══════════╪═══════════╪═══════════╪══════════╡\n",
      "│ FC        ┆ 2019-07-0 ┆ 87.599998 ┆ -1.68     ┆ … ┆ Standard  ┆ 175.0     ┆ 0.027     ┆ 0.391    │\n",
      "│           ┆ 6 00:00:0 ┆           ┆           ┆   ┆           ┆           ┆           ┆          │\n",
      "│           ┆ 0.0000000 ┆           ┆           ┆   ┆           ┆           ┆           ┆          │\n",
      "│           ┆ 00        ┆           ┆           ┆   ┆           ┆           ┆           ┆          │\n",
      "│ FC        ┆ 2016-09-0 ┆ 89.300003 ┆ -1.61     ┆ … ┆ Standard  ┆ 179.0     ┆ 0.036     ┆ 0.389    │\n",
      "│           ┆ 7 00:00:0 ┆           ┆           ┆   ┆           ┆           ┆           ┆          │\n",
      "│           ┆ 0.0000000 ┆           ┆           ┆   ┆           ┆           ┆           ┆          │\n",
      "│           ┆ 00        ┆           ┆           ┆   ┆           ┆           ┆           ┆          │\n",
      "│ SI        ┆ 2016-07-0 ┆ 95.300003 ┆ -1.13     ┆ … ┆ Standard  ┆ 234.0     ┆ 0.0       ┆ -0.11    │\n",
      "│           ┆ 8 00:00:0 ┆           ┆           ┆   ┆           ┆           ┆           ┆          │\n",
      "│           ┆ 0.0000000 ┆           ┆           ┆   ┆           ┆           ┆           ┆          │\n",
      "│           ┆ 00        ┆           ┆           ┆   ┆           ┆           ┆           ┆          │\n",
      "└───────────┴───────────┴───────────┴───────────┴───┴───────────┴───────────┴───────────┴──────────┘\n"
     ]
    }
   ],
   "source": [
    "STATCAST_ERA_PITCHES_URL: str = (\n",
    "    \"https://huggingface.co/api/datasets/Jensen-holm/statcast-era-pitches/parquet/default/train/0.parquet\"\n",
    ")\n",
    "\n",
    "statcast_era_df: pl.DataFrame = pl.read_parquet(STATCAST_ERA_PITCHES_URL)\n",
    "print(statcast_era_df.sample(3))"
   ]
  },
  {
   "cell_type": "markdown",
   "metadata": {},
   "source": [
    "# Pre-Processing\n",
    "\n",
    "***Goal***\n",
    "Reverse the magnus effect on the baseball for each pitch so that we can estimate where the ball would have ended up without spin induced magnus force. This will allow us to measure how well hte pitcher is tunneling their pitches because if two pitches end up in similar positions without spin, but end up far apart, the pitch was pretty elusive and was in likley appeared to like the other pitch."
   ]
  },
  {
   "cell_type": "code",
   "execution_count": 3,
   "metadata": {},
   "outputs": [],
   "source": [
    "# remove rows where columns we are interested in are null\n",
    "statcast_era_pitches = statcast_era_df.drop_nulls(\n",
    "    subset=[\n",
    "        \"pitch_type\",  # type of pitch: FF, FC, CU, etc ...\n",
    "        \"release_pos_x\",  # horizontal release position of ball in ft from catcher pov\n",
    "        \"release_pos_z\",  # vertical release position of ball in ft from catcher pov\n",
    "        \"spin_axis\",\n",
    "        \"pfx_x\",  # horizontal movement in ft from catchers perspective\n",
    "        \"pfx_z\",  # vertical movement in ft from catchers perspective\n",
    "        \"plate_x\",  # horizontal position of ball when it crossed the plate\n",
    "        \"plate_z\",  # vertical position of the ball when it crossed the plate\n",
    "        \"release_speed\",\n",
    "    ]\n",
    ")"
   ]
  },
  {
   "cell_type": "markdown",
   "metadata": {},
   "source": [
    "## Reversing Ball Movement"
   ]
  },
  {
   "cell_type": "code",
   "execution_count": 4,
   "metadata": {},
   "outputs": [
    {
     "name": "stdout",
     "output_type": "stream",
     "text": [
      "shape: (3, 6)\n",
      "┌─────────┬─────────┬───────┬───────┬─────────────────┬─────────────────┐\n",
      "│ plate_x ┆ plate_z ┆ pfx_x ┆ pfx_z ┆ plate_x_no_move ┆ plate_z_no_move │\n",
      "│ ---     ┆ ---     ┆ ---   ┆ ---   ┆ ---             ┆ ---             │\n",
      "│ f32     ┆ f32     ┆ f32   ┆ f32   ┆ f32             ┆ f32             │\n",
      "╞═════════╪═════════╪═══════╪═══════╪═════════════════╪═════════════════╡\n",
      "│ -0.65   ┆ 2.6     ┆ -1.04 ┆ 0.69  ┆ 0.39            ┆ 1.91            │\n",
      "│ 0.31    ┆ 2.41    ┆ 0.4   ┆ 0.21  ┆ -0.09           ┆ 2.2             │\n",
      "│ 1.31    ┆ 3.31    ┆ 0.17  ┆ 0.7   ┆ 1.14            ┆ 2.61            │\n",
      "└─────────┴─────────┴───────┴───────┴─────────────────┴─────────────────┘\n"
     ]
    }
   ],
   "source": [
    "# add columns for the ball's position if it had no movement\n",
    "statcast_era_pitches = statcast_era_pitches.with_columns(\n",
    "    plate_x_no_move=pl.col(\"plate_x\") - pl.col(\"pfx_x\"),\n",
    "    plate_z_no_move=pl.col(\"plate_z\") - pl.col(\"pfx_z\"),\n",
    ")\n",
    "\n",
    "print(statcast_era_pitches.sample(3, seed=1).select([\n",
    "    \"plate_x\",\n",
    "    \"plate_z\",\n",
    "    \"pfx_x\",\n",
    "    \"pfx_z\",\n",
    "    \"plate_x_no_move\",\n",
    "    \"plate_z_no_move\",\n",
    "]))"
   ]
  },
  {
   "cell_type": "code",
   "execution_count": 5,
   "metadata": {},
   "outputs": [
    {
     "data": {
      "image/png": "[encoded data removed]",
      "text/plain": [
       "<Figure size 640x480 with 1 Axes>"
      ]
     },
     "metadata": {},
     "output_type": "display_data"
    }
   ],
   "source": [
    "\n",
    "# visualize the difference for a single random pitch\n",
    "random_pitch = statcast_era_pitches.sample(1, seed=3).select(\n",
    "    \"pitch_type\",\n",
    "    \"pitch_name\",\n",
    "    \"plate_x\",\n",
    "    \"plate_z\",\n",
    "    \"plate_x_no_move\",\n",
    "    \"plate_z_no_move\",\n",
    ")\n",
    "\n",
    "plot_strike_zone(\n",
    "    data=(pl.concat([\n",
    "        random_pitch.select(\"pitch_type\", \"pitch_name\", \"plate_x\", \"plate_z\").with_columns(\n",
    "            movement=1,\n",
    "        ),\n",
    "        random_pitch.select(\"pitch_type\", \"pitch_name\", \"plate_x_no_move\", \"plate_z_no_move\").rename({\n",
    "            \"plate_z_no_move\": \"plate_z\",\n",
    "            \"plate_x_no_move\": \"plate_x\",\n",
    "        }).with_columns(movement=0),\n",
    "    ])).to_pandas(),\n",
    "    colorby=\"movement\",\n",
    "    annotation=\"pitch_name\",\n",
    ")\n",
    "\n",
    "plt.show()"
   ]
  },
  {
   "cell_type": "markdown",
   "metadata": {},
   "source": [
    "## Appending Previous pitches"
   ]
  },
  {
   "cell_type": "code",
   "execution_count": 7,
   "metadata": {},
   "outputs": [],
   "source": [
    "# sort the dataframe to make sure that each pitch is next to the previous one,\n",
    "# then, add new columns to the dataframe that contain the previous pitches information. \n",
    "statcast_era_pitches_sorted = statcast_era_pitches.sort(\n",
    "    by=[\"game_date\", \"at_bat_number\", \"pitch_number\"],\n",
    "    descending=False,\n",
    ")\n",
    "\n",
    "for col_name in statcast_era_pitches_sorted.columns:\n",
    "    statcast_era_pitches_sorted = statcast_era_pitches_sorted.with_columns(\n",
    "        pl.col(col_name).shift(-1).over(\"pitcher\").alias(f\"prev_{col_name}\")\n",
    "    )"
   ]
  },
  {
   "cell_type": "code",
   "execution_count": 8,
   "metadata": {},
   "outputs": [],
   "source": [
    "statcast_era_pitches_sorted = statcast_era_pitches_sorted.drop_nulls(subset=[\n",
    "    \"prev_plate_x\",\n",
    "    \"prev_plate_z\",\n",
    "])"
   ]
  },
  {
   "cell_type": "code",
   "execution_count": 9,
   "metadata": {},
   "outputs": [
    {
     "name": "stdout",
     "output_type": "stream",
     "text": [
      "shape: (3, 3)\n",
      "┌────────────────────┬──────────────┬──────────────────────┐\n",
      "│ prev_release_pos_x ┆ prev_plate_x ┆ prev_plate_x_no_move │\n",
      "│ ---                ┆ ---          ┆ ---                  │\n",
      "│ f32                ┆ f32          ┆ f32                  │\n",
      "╞════════════════════╪══════════════╪══════════════════════╡\n",
      "│ 2.15               ┆ 0.08         ┆ 0.36                 │\n",
      "│ -1.71              ┆ -0.24        ┆ -1.65                │\n",
      "│ 1.54               ┆ 0.12         ┆ 0.39                 │\n",
      "└────────────────────┴──────────────┴──────────────────────┘\n"
     ]
    }
   ],
   "source": [
    "print(statcast_era_pitches_sorted.select(\n",
    "    \"prev_release_pos_x\",\n",
    "    \"prev_plate_x\",\n",
    "    \"prev_plate_x_no_move\",\n",
    ").sample(3))"
   ]
  },
  {
   "cell_type": "markdown",
   "metadata": {},
   "source": [
    "## Compute Distances with Previous Pitch\n",
    "\n",
    "By computing the euclidean distances between where the current pitch ended up, where it would have ended up without movement with that of the previous pitch, we can see if they were on a similar trajectory during hte ball flight. This can give us an idea of how well the pitches are 'tunneling'."
   ]
  },
  {
   "cell_type": "code",
   "execution_count": 10,
   "metadata": {},
   "outputs": [
    {
     "name": "stdout",
     "output_type": "stream",
     "text": [
      "shape: (3, 2)\n",
      "┌──────────────────────┬──────────┐\n",
      "│ distance_no_movement ┆ distance │\n",
      "│ ---                  ┆ ---      │\n",
      "│ f32                  ┆ f32      │\n",
      "╞══════════════════════╪══════════╡\n",
      "│ 1.945585             ┆ 0.860523 │\n",
      "│ 4.486123             ┆ 0.76922  │\n",
      "│ 0.940053             ┆ 0.54     │\n",
      "└──────────────────────┴──────────┘\n"
     ]
    }
   ],
   "source": [
    "\n",
    "def euclidean_distance(point1: tuple[float, float], point2: tuple[float, float]) -> float:\n",
    "    x1, y1 = point1\n",
    "    x2, y2 = point2\n",
    "    return np.sqrt(((x1 - x2) ** 2) + ((y1 - y2) ** 2))\n",
    "\n",
    "\n",
    "distances_df: pl.DataFrame = statcast_era_pitches_sorted.with_columns(\n",
    "    # euclidean distance between the actual x and z coordinates of the pitch and the previous one\n",
    "    distance=euclidean_distance(\n",
    "        point1=(pl.col(\"plate_x\"), pl.col(\"plate_z\")),\n",
    "        point2=(pl.col(\"prev_plate_x\"), pl.col(\"prev_plate_z\")),\n",
    "    ),\n",
    "\n",
    "    # euclidean distance between the x and z coordinates of the pitch and the previous one if they had no movement\n",
    "    distance_no_movement=euclidean_distance(\n",
    "        point1=(pl.col(\"plate_x_no_move\"), pl.col(\"plate_z_no_move\")),\n",
    "        point2=(pl.col(\"prev_plate_x_no_move\"), pl.col(\"prev_plate_x_no_move\")),\n",
    "    )\n",
    ") \n",
    "\n",
    "print(distances_df.select(\n",
    "    \"distance_no_movement\",\n",
    "    \"distance\",\n",
    ").sample(3, seed=42))"
   ]
  },
  {
   "cell_type": "markdown",
   "metadata": {},
   "source": [
    "# Find pitches with little distance_no_movement"
   ]
  },
  {
   "cell_type": "code",
   "execution_count": 12,
   "metadata": {},
   "outputs": [
    {
     "name": "stdout",
     "output_type": "stream",
     "text": [
      "shape: (4_679_491, 190)\n",
      "┌───────────┬───────────┬───────────┬───────────┬───┬───────────┬───────────┬───────────┬──────────┐\n",
      "│ pitch_typ ┆ game_date ┆ release_s ┆ release_p ┆ … ┆ prev_plat ┆ prev_plat ┆ distance  ┆ distance │\n",
      "│ e         ┆ ---       ┆ peed      ┆ os_x      ┆   ┆ e_x_no_mo ┆ e_z_no_mo ┆ ---       ┆ _no_move │\n",
      "│ ---       ┆ str       ┆ ---       ┆ ---       ┆   ┆ ve        ┆ ve        ┆ f32       ┆ ment     │\n",
      "│ str       ┆           ┆ f32       ┆ f32       ┆   ┆ ---       ┆ ---       ┆           ┆ ---      │\n",
      "│           ┆           ┆           ┆           ┆   ┆ f32       ┆ f32       ┆           ┆ f32      │\n",
      "╞═══════════╪═══════════╪═══════════╪═══════════╪═══╪═══════════╪═══════════╪═══════════╪══════════╡\n",
      "│ CH        ┆ 2016-04-1 ┆ 86.900002 ┆ -2.22     ┆ … ┆ -0.03     ┆ 1.24      ┆ 0.0       ┆ 1.378296 │\n",
      "│           ┆ 9 00:00:0 ┆           ┆           ┆   ┆           ┆           ┆           ┆          │\n",
      "│           ┆ 0.0000000 ┆           ┆           ┆   ┆           ┆           ┆           ┆          │\n",
      "│           ┆ 00        ┆           ┆           ┆   ┆           ┆           ┆           ┆          │\n",
      "│ SL        ┆ 2016-04-2 ┆ 77.5      ┆ -1.88     ┆ … ┆ 0.82      ┆ 0.55      ┆ 0.0       ┆ 1.800555 │\n",
      "│           ┆ 5 00:00:0 ┆           ┆           ┆   ┆           ┆           ┆           ┆          │\n",
      "│           ┆ 0.0000000 ┆           ┆           ┆   ┆           ┆           ┆           ┆          │\n",
      "│           ┆ 00        ┆           ┆           ┆   ┆           ┆           ┆           ┆          │\n",
      "│ SI        ┆ 2016-05-0 ┆ 92.800003 ┆ -1.79     ┆ … ┆ -1.16     ┆ 1.45      ┆ 0.0       ┆ 2.872786 │\n",
      "│           ┆ 4 00:00:0 ┆           ┆           ┆   ┆           ┆           ┆           ┆          │\n",
      "│           ┆ 0.0000000 ┆           ┆           ┆   ┆           ┆           ┆           ┆          │\n",
      "│           ┆ 00        ┆           ┆           ┆   ┆           ┆           ┆           ┆          │\n",
      "│ SL        ┆ 2016-06-1 ┆ 83.0      ┆ 1.75      ┆ … ┆ -0.38     ┆ 1.74      ┆ 0.0       ┆ 3.502371 │\n",
      "│           ┆ 6 00:00:0 ┆           ┆           ┆   ┆           ┆           ┆           ┆          │\n",
      "│           ┆ 0.0000000 ┆           ┆           ┆   ┆           ┆           ┆           ┆          │\n",
      "│           ┆ 00        ┆           ┆           ┆   ┆           ┆           ┆           ┆          │\n",
      "│ SI        ┆ 2016-08-1 ┆ 91.199997 ┆ -1.26     ┆ … ┆ -0.31     ┆ 0.45      ┆ 0.0       ┆ 1.055746 │\n",
      "│           ┆ 9 00:00:0 ┆           ┆           ┆   ┆           ┆           ┆           ┆          │\n",
      "│           ┆ 0.0000000 ┆           ┆           ┆   ┆           ┆           ┆           ┆          │\n",
      "│           ┆ 00        ┆           ┆           ┆   ┆           ┆           ┆           ┆          │\n",
      "│ …         ┆ …         ┆ …         ┆ …         ┆ … ┆ …         ┆ …         ┆ …         ┆ …        │\n",
      "│ FF        ┆ 2020-07-2 ┆ 89.699997 ┆ -0.48     ┆ … ┆ -9.57     ┆ 10.69     ┆ 12.312435 ┆ 14.60266 │\n",
      "│           ┆ 5 00:00:0 ┆           ┆           ┆   ┆           ┆           ┆           ┆ 1        │\n",
      "│           ┆ 0.0000000 ┆           ┆           ┆   ┆           ┆           ┆           ┆          │\n",
      "│           ┆ 00        ┆           ┆           ┆   ┆           ┆           ┆           ┆          │\n",
      "│ FF        ┆ 2020-08-2 ┆ 91.300003 ┆ -1.94     ┆ … ┆ -6.98     ┆ 12.8      ┆ 12.578382 ┆ 10.98220 │\n",
      "│           ┆ 0 00:00:0 ┆           ┆           ┆   ┆           ┆           ┆           ┆ 8        │\n",
      "│           ┆ 0.0000000 ┆           ┆           ┆   ┆           ┆           ┆           ┆          │\n",
      "│           ┆ 00        ┆           ┆           ┆   ┆           ┆           ┆           ┆          │\n",
      "│ CH        ┆ 2021-08-0 ┆ 85.599998 ┆ -3.01     ┆ … ┆ 8.01      ┆ 0.51      ┆ 12.940993 ┆ 10.05146 │\n",
      "│           ┆ 8 00:00:0 ┆           ┆           ┆   ┆           ┆           ┆           ┆ 8        │\n",
      "│           ┆ 0.0000000 ┆           ┆           ┆   ┆           ┆           ┆           ┆          │\n",
      "│           ┆ 00        ┆           ┆           ┆   ┆           ┆           ┆           ┆          │\n",
      "│ CS        ┆ 2020-07-2 ┆ 54.700001 ┆ 0.34      ┆ … ┆ 0.5       ┆ 1.92      ┆ 13.148459 ┆ 14.32623 │\n",
      "│           ┆ 5 00:00:0 ┆           ┆           ┆   ┆           ┆           ┆           ┆ 4        │\n",
      "│           ┆ 0.0000000 ┆           ┆           ┆   ┆           ┆           ┆           ┆          │\n",
      "│           ┆ 00        ┆           ┆           ┆   ┆           ┆           ┆           ┆          │\n",
      "│ EP        ┆ 2020-08-2 ┆ 46.700001 ┆ -1.49     ┆ … ┆ -1.08     ┆ 1.98      ┆ 13.757125 ┆ 15.08192 │\n",
      "│           ┆ 0 00:00:0 ┆           ┆           ┆   ┆           ┆           ┆           ┆ 3        │\n",
      "│           ┆ 0.0000000 ┆           ┆           ┆   ┆           ┆           ┆           ┆          │\n",
      "│           ┆ 00        ┆           ┆           ┆   ┆           ┆           ┆           ┆          │\n",
      "└───────────┴───────────┴───────────┴───────────┴───┴───────────┴───────────┴───────────┴──────────┘\n"
     ]
    }
   ],
   "source": [
    "# sort the dataframe by the distance column in ascending order\n",
    "distances_df_sorted = distances_df.sort(\"distance\", descending=False)\n",
    "\n",
    "print(distances_df_sorted)"
   ]
  },
  {
   "cell_type": "code",
   "execution_count": null,
   "metadata": {},
   "outputs": [],
   "source": []
  }
 ],
 "metadata": {
  "kernelspec": {
   "display_name": "venv",
   "language": "python",
   "name": "python3"
  },
  "language_info": {
   "codemirror_mode": {
    "name": "ipython",
    "version": 3
   },
   "file_extension": ".py",
   "mimetype": "text/x-python",
   "name": "python",
   "nbconvert_exporter": "python",
   "pygments_lexer": "ipython3",
   "version": "3.12.3"
  }
 },
 "nbformat": 4,
 "nbformat_minor": 2
}
