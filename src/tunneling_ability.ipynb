{
 "cells": [
  {
   "cell_type": "markdown",
   "metadata": {},
   "source": [
    "### Reading data\n",
    "\n",
    "The data for this project is located in [this hugging face space](https://huggingface.co/datasets/Jensen-holm/statcast-era-pitches) that I made. It contains every single pitch from the modern statcast era up through last year (2015-2023)."
   ]
  },
  {
   "cell_type": "code",
   "execution_count": 1,
   "metadata": {},
   "outputs": [
    {
     "name": "stdout",
     "output_type": "stream",
     "text": [
      "shape: (3, 92)\n",
      "┌───────────┬───────────┬───────────┬───────────┬───┬───────────┬───────────┬───────────┬──────────┐\n",
      "│ pitch_typ ┆ game_date ┆ release_s ┆ release_p ┆ … ┆ of_fieldi ┆ spin_axis ┆ delta_hom ┆ delta_ru │\n",
      "│ e         ┆ ---       ┆ peed      ┆ os_x      ┆   ┆ ng_alignm ┆ ---       ┆ e_win_exp ┆ n_exp    │\n",
      "│ ---       ┆ str       ┆ ---       ┆ ---       ┆   ┆ ent       ┆ f32       ┆ ---       ┆ ---      │\n",
      "│ str       ┆           ┆ f32       ┆ f32       ┆   ┆ ---       ┆           ┆ f32       ┆ f32      │\n",
      "│           ┆           ┆           ┆           ┆   ┆ str       ┆           ┆           ┆          │\n",
      "╞═══════════╪═══════════╪═══════════╪═══════════╪═══╪═══════════╪═══════════╪═══════════╪══════════╡\n",
      "│ SI        ┆ 2015-05-1 ┆ 89.0      ┆ -2.2      ┆ … ┆ Standard  ┆ null      ┆ 0.0       ┆ -0.071   │\n",
      "│           ┆ 4 00:00:0 ┆           ┆           ┆   ┆           ┆           ┆           ┆          │\n",
      "│           ┆ 0.0000000 ┆           ┆           ┆   ┆           ┆           ┆           ┆          │\n",
      "│           ┆ 00        ┆           ┆           ┆   ┆           ┆           ┆           ┆          │\n",
      "│ FF        ┆ 2017-04-0 ┆ 93.800003 ┆ 1.64      ┆ … ┆ Standard  ┆ 151.0     ┆ -0.026    ┆ 0.277    │\n",
      "│           ┆ 2 00:00:0 ┆           ┆           ┆   ┆           ┆           ┆           ┆          │\n",
      "│           ┆ 0.0000000 ┆           ┆           ┆   ┆           ┆           ┆           ┆          │\n",
      "│           ┆ 00        ┆           ┆           ┆   ┆           ┆           ┆           ┆          │\n",
      "│ KC        ┆ 2015-05-0 ┆ 78.400002 ┆ -1.78     ┆ … ┆ Standard  ┆ null      ┆ 0.0       ┆ 0.051    │\n",
      "│           ┆ 1 00:00:0 ┆           ┆           ┆   ┆           ┆           ┆           ┆          │\n",
      "│           ┆ 0.0000000 ┆           ┆           ┆   ┆           ┆           ┆           ┆          │\n",
      "│           ┆ 00        ┆           ┆           ┆   ┆           ┆           ┆           ┆          │\n",
      "└───────────┴───────────┴───────────┴───────────┴───┴───────────┴───────────┴───────────┴──────────┘\n"
     ]
    }
   ],
   "source": [
    "import polars as pl\n",
    "\n",
    "STATCAST_ERA_PITCHES_URL: str = (\n",
    "    \"https://huggingface.co/api/datasets/Jensen-holm/statcast-era-pitches/parquet/default/train/0.parquet\"\n",
    ")\n",
    "\n",
    "statcast_era_df: pl.DataFrame = pl.read_parquet(STATCAST_ERA_PITCHES_URL)\n",
    "print(statcast_era_df.sample(3))"
   ]
  },
  {
   "cell_type": "markdown",
   "metadata": {},
   "source": [
    "# Pre-Processing\n",
    "\n",
    "***Goal***\n",
    "Reverse the magnus effect on the baseball for each pitch so that we can estimate where the ball would have ended up without spin induced magnus force. This will allow us to measure how well hte pitcher is tunneling their pitches because if two pitches end up in similar positions without spin, but end up far apart, the pitch was pretty elusive and was in likley appeared to like the other pitch."
   ]
  },
  {
   "cell_type": "code",
   "execution_count": 2,
   "metadata": {},
   "outputs": [],
   "source": [
    "# remove rows where columns we are interested in are null\n",
    "TUNNEL_COLS: list[str] = [\n",
    "    \"pitch_type\",  # type of pitch: FF, FC, CU, etc ...\n",
    "    \"release_pos_x\",  # horizontal release position of ball in ft from catcher pov\n",
    "    \"release_pos_z\",  # vertical release position of ball in ft from catcher pov\n",
    "    \"spin_axis\",  # spin axis in clock format\n",
    "    \"pfx_x\",  # horizontal movement in ft from catchers perspective\n",
    "    \"pfx_z\",  # vertical movement in ft from catchers perspective\n",
    "    \"plate_x\",  # horizontal position of ball when it crossed the plate\n",
    "    \"plate_z\",  # vertical position of the ball when it crossed the plate\n",
    "]\n",
    "\n",
    "# drop missing values for the columns that we care about\n",
    "statcast_era_pitches = statcast_era_df.drop_nulls(subset=TUNNEL_COLS)"
   ]
  },
  {
   "cell_type": "code",
   "execution_count": 6,
   "metadata": {},
   "outputs": [
    {
     "name": "stdout",
     "output_type": "stream",
     "text": [
      "shape: (5, 1)\n",
      "┌───────────────┐\n",
      "│ spin_axis_deg │\n",
      "│ ---           │\n",
      "│ f32           │\n",
      "╞═══════════════╡\n",
      "│ 46.5          │\n",
      "│ 35.5          │\n",
      "│ 46.0          │\n",
      "│ 83.5          │\n",
      "│ 74.0          │\n",
      "└───────────────┘\n"
     ]
    }
   ],
   "source": [
    "# convert spin axis from clock format into degree format\n",
    "def clock_to_deg(spin_axis: int) -> float:\n",
    "    hours = spin_axis // 100\n",
    "    minutes = spin_axis % 100\n",
    "    return (hours * 30) + (minutes * 0.5)\n",
    "\n",
    "\n",
    "statcast_era_df_mod = statcast_era_df.with_columns(\n",
    "    pl.col(\"spin_axis\")\n",
    "    .map_elements(clock_to_deg, return_dtype=pl.Float32)\n",
    "    .alias(\"spin_axis_deg\"),\n",
    ").rename({\"spin_axis\": \"spin_axis_clk\"})\n",
    "\n",
    "print(statcast_era_df_mod.select(\"spin_axis_deg\").sample(5, seed=42))"
   ]
  },
  {
   "cell_type": "markdown",
   "metadata": {},
   "source": [
    "## Applying Magnus Equations\n",
    "\n",
    "The goal of applying the magnus equations in this context will be to figure out where the ball would have ended up in the strike zone if the ball did not have any spin. This is useful because if two pitches end up in the same spot without spin, but ended up in very different places in reality, these pitches 'looked' like one another, and are a very good combo."
   ]
  },
  {
   "cell_type": "code",
   "execution_count": 14,
   "metadata": {},
   "outputs": [],
   "source": [
    "from dataclasses import dataclass\n",
    "import numpy as np\n",
    "\n",
    "# Magnus Formula Source:\n",
    "# https://www.physicsforums.com/threads/magnus-effect-what-is-the-correct-formula.894467/#:~:text=The%20correct%20formula%20for%20calculating,sectional%20area%20of%20the%20object.\n",
    "\n",
    "# Other source for coefficients & constants:\n",
    "# https://www1.grc.nasa.gov/beginners-guide-to-aeronautics/aerodynamics-of-baseball/\n",
    "\n",
    "\n",
    "@dataclass\n",
    "class BaseballForce:\n",
    "    _ball_radius: float = 1.43  # inches\n",
    "    _air_density: float = 1.293  # kg/m^3\n",
    "    _baseball_cd: float = 0.3  # drag coefficient of a baseball\n",
    "    _ball_cross_sectional_area: float = np.pi * (0.07468 / 2) ** 2\n",
    "    _baseball_mass: float = 0.145  # kg\n",
    "    _g: float = 9.81  # gravitational constant\n",
    "\n",
    "    @staticmethod\n",
    "    def _angular_velocity(rpm: float) -> float:\n",
    "        return (rpm * (2 * np.pi)) / 60\n",
    "\n",
    "    def _magnus_effect(self, velocity: float, rpm: float) -> float:\n",
    "        A = self._angular_velocity(rpm=rpm)\n",
    "        return self._air_density * velocity * A * self._ball_cross_sectional_area\n",
    "\n",
    "    def spin_force(self, velocity: float, spin_rpm: float, spin_axis: float) -> float:\n",
    "        F = self._magnus_effect(velocity=velocity, rpm=spin_rpm)\n",
    "        return (\n",
    "            F * np.sin(np.radians(spin_axis)),  # horizontal movement caused by spin\n",
    "            F * np.cos(np.radians(spin_axis)),  # vertical movement caused by spin\n",
    "        )\n",
    "\n",
    "    def air_resistance(self, velocity: float) -> float:\n",
    "        return (\n",
    "            0.5\n",
    "            * self._air_density\n",
    "            * (velocity**2)\n",
    "            * self._ball_cross_sectional_area\n",
    "            * self._baseball_cd\n",
    "        )\n",
    "\n",
    "    def gravitational_force(self) -> float:\n",
    "        return self._g * self._baseball_mass\n",
    "\n",
    "    def total_force(self, velocity: float, spin_rpm: float, spin_axis: float) -> float:\n",
    "        h_spin_force, v_spin_force = self.spin_force(\n",
    "            spin_axis=spin_axis, spin_rpm=spin_rpm, velocity=velocity\n",
    "        )\n",
    "        return (\n",
    "            h_spin_force\n",
    "            + v_spin_force\n",
    "            + self.air_resistance(velocity=velocity)\n",
    "            + self.gravitational_force()\n",
    "        )"
   ]
  },
  {
   "cell_type": "code",
   "execution_count": 13,
   "metadata": {},
   "outputs": [
    {
     "name": "stdout",
     "output_type": "stream",
     "text": [
      "shape: (5, 7)\n",
      "┌────────────┬──────────────┬──────────────┬─────────────┬─────────────┬─────────────┬─────────────┐\n",
      "│ pitch_type ┆ release_spee ┆ h_magnus_for ┆ v_magnus_fo ┆ air_resista ┆ gravitation ┆ total_force │\n",
      "│ ---        ┆ d            ┆ ce           ┆ rce         ┆ nce_force   ┆ al_force    ┆ ---         │\n",
      "│ str        ┆ ---          ┆ ---          ┆ ---         ┆ ---         ┆ ---         ┆ f64         │\n",
      "│            ┆ f32          ┆ f64          ┆ f64         ┆ f32         ┆ f64         ┆             │\n",
      "╞════════════╪══════════════╪══════════════╪═════════════╪═════════════╪═════════════╪═════════════╡\n",
      "│ SL         ┆ 86.800003    ┆ 77.000973    ┆ 73.071196   ┆ 6.400705    ┆ 1.42245     ┆ 157.895324  │\n",
      "│ SL         ┆ 86.300003    ┆ 76.268838    ┆ 106.924967  ┆ 6.327176    ┆ 1.42245     ┆ 190.943431  │\n",
      "│ SL         ┆ 84.199997    ┆ 74.252706    ┆ 71.705009   ┆ 6.022995    ┆ 1.42245     ┆ 153.40316   │\n",
      "│ FS         ┆ 91.199997    ┆ 90.986446    ┆ 10.366599   ┆ 7.066071    ┆ 1.42245     ┆ 109.841565  │\n",
      "│ SI         ┆ 95.900002    ┆ 113.504543   ┆ 32.546911   ┆ 7.813138    ┆ 1.42245     ┆ 155.287043  │\n",
      "└────────────┴──────────────┴──────────────┴─────────────┴─────────────┴─────────────┴─────────────┘\n"
     ]
    }
   ],
   "source": [
    "# add magnus force columns to our dataframe\n",
    "ball_force_eqs = BaseballForce()\n",
    "\n",
    "statcast_era_force_df: pl.DataFrame = statcast_era_df_mod.with_columns(\n",
    "    h_magnus_force=ball_force_eqs.spin_force(\n",
    "        velocity=pl.col(\"release_speed\"),\n",
    "        spin_axis=pl.col(\"spin_axis_deg\"),\n",
    "        spin_rpm=pl.col(\"release_spin_rate\"),\n",
    "    )[0],\n",
    "    v_magnus_force=ball_force_eqs.spin_force(\n",
    "        velocity=pl.col(\"release_speed\"),\n",
    "        spin_axis=pl.col(\"spin_axis_deg\"),\n",
    "        spin_rpm=pl.col(\"release_spin_rate\"),\n",
    "    )[1],\n",
    "    air_resistance_force=ball_force_eqs.air_resistance(\n",
    "        velocity=pl.col(\"release_speed\"),\n",
    "    ),\n",
    "    gravitational_force=ball_force_eqs.gravitational_force(),\n",
    ").with_columns(\n",
    "    total_force=pl.col(\"h_magnus_force\")\n",
    "    + pl.col(\"v_magnus_force\")\n",
    "    + pl.col(\"air_resistance_force\")\n",
    "    + pl.col(\"gravitational_force\")\n",
    ")\n",
    "\n",
    "print(\n",
    "    statcast_era_force_df.select(\n",
    "        \"pitch_type\",\n",
    "        \"release_speed\",\n",
    "        \"h_magnus_force\",\n",
    "        \"v_magnus_force\",\n",
    "        \"air_resistance_force\",\n",
    "        \"gravitational_force\",\n",
    "        \"total_force\",\n",
    "    ).sample(5, seed=42)\n",
    ")"
   ]
  }
 ],
 "metadata": {
  "kernelspec": {
   "display_name": "venv",
   "language": "python",
   "name": "python3"
  },
  "language_info": {
   "codemirror_mode": {
    "name": "ipython",
    "version": 3
   },
   "file_extension": ".py",
   "mimetype": "text/x-python",
   "name": "python",
   "nbconvert_exporter": "python",
   "pygments_lexer": "ipython3",
   "version": "3.12.3"
  }
 },
 "nbformat": 4,
 "nbformat_minor": 2
}
