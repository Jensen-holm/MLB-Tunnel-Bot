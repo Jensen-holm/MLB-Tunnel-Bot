{
 "cells": [
  {
   "cell_type": "markdown",
   "metadata": {},
   "source": [
    "### Reading data\n",
    "\n",
    "The data for this project is located in [this hugging face space](https://huggingface.co/datasets/Jensen-holm/statcast-era-pitches) that I made. It contains every single pitch from the modern statcast era up through last year (2015-2023)."
   ]
  },
  {
   "cell_type": "code",
   "execution_count": 1,
   "metadata": {},
   "outputs": [
    {
     "data": {
      "text/html": [
       "<div><style>\n",
       ".dataframe > thead > tr,\n",
       ".dataframe > tbody > tr {\n",
       "  text-align: right;\n",
       "  white-space: pre-wrap;\n",
       "}\n",
       "</style>\n",
       "<small>shape: (3, 92)</small><table border=\"1\" class=\"dataframe\"><thead><tr><th>pitch_type</th><th>game_date</th><th>release_speed</th><th>release_pos_x</th><th>release_pos_z</th><th>player_name</th><th>batter</th><th>pitcher</th><th>events</th><th>description</th><th>spin_dir</th><th>spin_rate_deprecated</th><th>break_angle_deprecated</th><th>break_length_deprecated</th><th>zone</th><th>des</th><th>game_type</th><th>stand</th><th>p_throws</th><th>home_team</th><th>away_team</th><th>type</th><th>hit_location</th><th>bb_type</th><th>balls</th><th>strikes</th><th>game_year</th><th>pfx_x</th><th>pfx_z</th><th>plate_x</th><th>plate_z</th><th>on_3b</th><th>on_2b</th><th>on_1b</th><th>outs_when_up</th><th>inning</th><th>inning_topbot</th><th>&hellip;</th><th>effective_speed</th><th>release_spin_rate</th><th>release_extension</th><th>game_pk</th><th>pitcher.1</th><th>fielder_2.1</th><th>fielder_3</th><th>fielder_4</th><th>fielder_5</th><th>fielder_6</th><th>fielder_7</th><th>fielder_8</th><th>fielder_9</th><th>release_pos_y</th><th>estimated_ba_using_speedangle</th><th>estimated_woba_using_speedangle</th><th>woba_value</th><th>woba_denom</th><th>babip_value</th><th>iso_value</th><th>launch_speed_angle</th><th>at_bat_number</th><th>pitch_number</th><th>pitch_name</th><th>home_score</th><th>away_score</th><th>bat_score</th><th>fld_score</th><th>post_away_score</th><th>post_home_score</th><th>post_bat_score</th><th>post_fld_score</th><th>if_fielding_alignment</th><th>of_fielding_alignment</th><th>spin_axis</th><th>delta_home_win_exp</th><th>delta_run_exp</th></tr><tr><td>str</td><td>str</td><td>f32</td><td>f32</td><td>f32</td><td>str</td><td>i32</td><td>i32</td><td>str</td><td>str</td><td>i64</td><td>i64</td><td>i64</td><td>i64</td><td>f32</td><td>str</td><td>str</td><td>str</td><td>str</td><td>str</td><td>str</td><td>str</td><td>f32</td><td>str</td><td>i32</td><td>i32</td><td>i32</td><td>f32</td><td>f32</td><td>f32</td><td>f32</td><td>i32</td><td>i32</td><td>i32</td><td>i32</td><td>f32</td><td>str</td><td>&hellip;</td><td>f32</td><td>i64</td><td>f32</td><td>i32</td><td>i64</td><td>i64</td><td>i32</td><td>i32</td><td>i32</td><td>i32</td><td>i32</td><td>i32</td><td>i32</td><td>f32</td><td>f32</td><td>f32</td><td>f32</td><td>f32</td><td>f32</td><td>f32</td><td>f32</td><td>i32</td><td>i32</td><td>str</td><td>i32</td><td>i32</td><td>i32</td><td>i64</td><td>i32</td><td>i32</td><td>i32</td><td>i64</td><td>str</td><td>str</td><td>f32</td><td>f32</td><td>f32</td></tr></thead><tbody><tr><td>&quot;FF&quot;</td><td>&quot;2017-05-09 00:…</td><td>95.699997</td><td>-2.39</td><td>5.93</td><td>&quot;Senzatela, Ant…</td><td>519203</td><td>622608</td><td>null</td><td>&quot;foul&quot;</td><td>null</td><td>null</td><td>null</td><td>null</td><td>8.0</td><td>&quot;Anthony Rizzo …</td><td>&quot;R&quot;</td><td>&quot;L&quot;</td><td>&quot;R&quot;</td><td>&quot;COL&quot;</td><td>&quot;CHC&quot;</td><td>&quot;S&quot;</td><td>null</td><td>null</td><td>2</td><td>0</td><td>2017</td><td>0.06</td><td>1.02</td><td>-0.11</td><td>2.13</td><td>null</td><td>null</td><td>null</td><td>2</td><td>1.0</td><td>&quot;Top&quot;</td><td>&hellip;</td><td>96.300003</td><td>2145</td><td>6.4</td><td>490574</td><td>622608</td><td>452672</td><td>448602</td><td>518934</td><td>571448</td><td>596115</td><td>435622</td><td>453568</td><td>471865</td><td>54.07</td><td>null</td><td>null</td><td>null</td><td>null</td><td>null</td><td>null</td><td>null</td><td>3</td><td>3</td><td>&quot;4-Seam Fastbal…</td><td>0</td><td>0</td><td>0</td><td>0</td><td>0</td><td>0</td><td>0</td><td>0</td><td>&quot;Infield shift&quot;</td><td>&quot;Standard&quot;</td><td>176.0</td><td>0.0</td><td>-0.022</td></tr><tr><td>&quot;SL&quot;</td><td>&quot;2017-04-21 00:…</td><td>85.900002</td><td>-3.36</td><td>5.77</td><td>&quot;Roark, Tanner&quot;</td><td>608061</td><td>543699</td><td>null</td><td>&quot;foul&quot;</td><td>null</td><td>null</td><td>null</td><td>null</td><td>6.0</td><td>&quot;T.J. Rivera gr…</td><td>&quot;R&quot;</td><td>&quot;R&quot;</td><td>&quot;R&quot;</td><td>&quot;NYM&quot;</td><td>&quot;WSH&quot;</td><td>&quot;S&quot;</td><td>null</td><td>null</td><td>1</td><td>1</td><td>2017</td><td>-0.06</td><td>0.47</td><td>0.63</td><td>2.36</td><td>null</td><td>null</td><td>null</td><td>1</td><td>7.0</td><td>&quot;Bot&quot;</td><td>&hellip;</td><td>84.300003</td><td>2355</td><td>5.6</td><td>490350</td><td>543699</td><td>446653</td><td>452252</td><td>502517</td><td>543685</td><td>594694</td><td>502317</td><td>594809</td><td>547180</td><td>54.939999</td><td>null</td><td>null</td><td>null</td><td>null</td><td>null</td><td>null</td><td>null</td><td>53</td><td>3</td><td>&quot;Slider&quot;</td><td>3</td><td>3</td><td>3</td><td>3</td><td>3</td><td>3</td><td>3</td><td>3</td><td>&quot;Standard&quot;</td><td>&quot;Standard&quot;</td><td>190.0</td><td>0.0</td><td>-0.045</td></tr><tr><td>&quot;ST&quot;</td><td>&quot;2022-07-22 00:…</td><td>82.099998</td><td>-2.37</td><td>5.46</td><td>&quot;Darvish, Yu&quot;</td><td>621512</td><td>506433</td><td>null</td><td>&quot;called_strike&quot;</td><td>null</td><td>null</td><td>null</td><td>null</td><td>12.0</td><td>&quot;Tomas Nido str…</td><td>&quot;R&quot;</td><td>&quot;R&quot;</td><td>&quot;R&quot;</td><td>&quot;NYM&quot;</td><td>&quot;SD&quot;</td><td>&quot;S&quot;</td><td>null</td><td>null</td><td>0</td><td>0</td><td>2022</td><td>1.49</td><td>-0.1</td><td>0.86</td><td>2.6</td><td>null</td><td>null</td><td>null</td><td>1</td><td>3.0</td><td>&quot;Bot&quot;</td><td>&hellip;</td><td>82.099998</td><td>2754</td><td>6.6</td><td>662481</td><td>506433</td><td>543592</td><td>543333</td><td>630105</td><td>592518</td><td>682928</td><td>595777</td><td>663757</td><td>608577</td><td>53.889999</td><td>null</td><td>null</td><td>null</td><td>null</td><td>null</td><td>null</td><td>null</td><td>22</td><td>1</td><td>&quot;Sweeper&quot;</td><td>0</td><td>0</td><td>0</td><td>0</td><td>0</td><td>0</td><td>0</td><td>0</td><td>&quot;Standard&quot;</td><td>&quot;Standard&quot;</td><td>58.0</td><td>0.0</td><td>-0.024</td></tr></tbody></table></div>"
      ],
      "text/plain": [
       "shape: (3, 92)\n",
       "┌───────────┬───────────┬───────────┬───────────┬───┬───────────┬───────────┬───────────┬──────────┐\n",
       "│ pitch_typ ┆ game_date ┆ release_s ┆ release_p ┆ … ┆ of_fieldi ┆ spin_axis ┆ delta_hom ┆ delta_ru │\n",
       "│ e         ┆ ---       ┆ peed      ┆ os_x      ┆   ┆ ng_alignm ┆ ---       ┆ e_win_exp ┆ n_exp    │\n",
       "│ ---       ┆ str       ┆ ---       ┆ ---       ┆   ┆ ent       ┆ f32       ┆ ---       ┆ ---      │\n",
       "│ str       ┆           ┆ f32       ┆ f32       ┆   ┆ ---       ┆           ┆ f32       ┆ f32      │\n",
       "│           ┆           ┆           ┆           ┆   ┆ str       ┆           ┆           ┆          │\n",
       "╞═══════════╪═══════════╪═══════════╪═══════════╪═══╪═══════════╪═══════════╪═══════════╪══════════╡\n",
       "│ FF        ┆ 2017-05-0 ┆ 95.699997 ┆ -2.39     ┆ … ┆ Standard  ┆ 176.0     ┆ 0.0       ┆ -0.022   │\n",
       "│           ┆ 9 00:00:0 ┆           ┆           ┆   ┆           ┆           ┆           ┆          │\n",
       "│           ┆ 0.0000000 ┆           ┆           ┆   ┆           ┆           ┆           ┆          │\n",
       "│           ┆ 00        ┆           ┆           ┆   ┆           ┆           ┆           ┆          │\n",
       "│ SL        ┆ 2017-04-2 ┆ 85.900002 ┆ -3.36     ┆ … ┆ Standard  ┆ 190.0     ┆ 0.0       ┆ -0.045   │\n",
       "│           ┆ 1 00:00:0 ┆           ┆           ┆   ┆           ┆           ┆           ┆          │\n",
       "│           ┆ 0.0000000 ┆           ┆           ┆   ┆           ┆           ┆           ┆          │\n",
       "│           ┆ 00        ┆           ┆           ┆   ┆           ┆           ┆           ┆          │\n",
       "│ ST        ┆ 2022-07-2 ┆ 82.099998 ┆ -2.37     ┆ … ┆ Standard  ┆ 58.0      ┆ 0.0       ┆ -0.024   │\n",
       "│           ┆ 2 00:00:0 ┆           ┆           ┆   ┆           ┆           ┆           ┆          │\n",
       "│           ┆ 0.0000000 ┆           ┆           ┆   ┆           ┆           ┆           ┆          │\n",
       "│           ┆ 00        ┆           ┆           ┆   ┆           ┆           ┆           ┆          │\n",
       "└───────────┴───────────┴───────────┴───────────┴───┴───────────┴───────────┴───────────┴──────────┘"
      ]
     },
     "execution_count": 1,
     "metadata": {},
     "output_type": "execute_result"
    }
   ],
   "source": [
    "import polars as pl\n",
    "\n",
    "STATCAST_ERA_PITCHES_URL: str = (\n",
    "    \"https://huggingface.co/api/datasets/Jensen-holm/statcast-era-pitches/parquet/default/train/0.parquet\"\n",
    ")\n",
    "\n",
    "statcast_era_df: pl.DataFrame = pl.read_parquet(STATCAST_ERA_PITCHES_URL)\n",
    "statcast_era_df.sample(3)"
   ]
  },
  {
   "cell_type": "markdown",
   "metadata": {},
   "source": [
    "# Goal\n",
    "\n",
    "I want to be able to measure a pitchers ability to tunnel pitches in an at bat. This will entail computing distances in 2D space between a few different metrics and combining them into one overarching tunnel score.\n",
    "\n",
    "- Computing the distance between horizontal movement and vertical movement between different pitches (high score = better?)\n",
    "- Computing the distance between release position x, y, and z for between different pitches (low score = better) \n",
    "- Estimate where the ball would have ended up without spin, compare that to other pitches without spin (low score = better). Say if two pitches had very different movement, but would have ended up in similar spots without spin, this means that the pitches started out on similar trajectories but broke a lot differently which is a very good thing.\n",
    "\n"
   ]
  },
  {
   "cell_type": "code",
   "execution_count": 2,
   "metadata": {},
   "outputs": [],
   "source": [
    "TUNNEL_COLS: list[str] = [\n",
    "    \"pitch_type\",  # type of pitch: FF, FC, CU, etc ...\n",
    "    \"release_pos_x\",  # horizontal release position of ball in ft from catcher pov\n",
    "    \"release_pos_z\",  # vertical release position of ball in ft from catcher pov\n",
    "    \"pfx_x\",  # horizontal movement in ft from catchers perspective\n",
    "    \"pfx_z\",  # vertical movement in ft from catchers perspective\n",
    "    \"plate_x\",  # horizontal position of ball when it crossed the plate\n",
    "    \"plate_z\",  # vertical position of the ball when it crossed the plate\n",
    "]\n",
    "\n",
    "# drop missing values for the columns that we care about\n",
    "statcast_era_pitches = statcast_era_df.drop_nulls(subset=TUNNEL_COLS)"
   ]
  },
  {
   "cell_type": "code",
   "execution_count": 3,
   "metadata": {},
   "outputs": [
    {
     "data": {
      "text/html": [
       "<div><style>\n",
       ".dataframe > thead > tr,\n",
       ".dataframe > tbody > tr {\n",
       "  text-align: right;\n",
       "  white-space: pre-wrap;\n",
       "}\n",
       "</style>\n",
       "<small>shape: (3, 8)</small><table border=\"1\" class=\"dataframe\"><thead><tr><th>pitcher</th><th>game_pk</th><th>pitch_type</th><th>at_bat_number</th><th>h_move_variance</th><th>v_move_variance</th><th>h_move_mean</th><th>v_move_mean</th></tr><tr><td>i32</td><td>i32</td><td>str</td><td>i32</td><td>f32</td><td>f32</td><td>f32</td><td>f32</td></tr></thead><tbody><tr><td>572362</td><td>530742</td><td>&quot;FF&quot;</td><td>82</td><td>0.08405</td><td>0.02</td><td>0.605</td><td>1.38</td></tr><tr><td>519326</td><td>529524</td><td>&quot;SI&quot;</td><td>75</td><td>0.019633</td><td>0.0309</td><td>-1.446667</td><td>0.69</td></tr><tr><td>543408</td><td>414852</td><td>&quot;FF&quot;</td><td>46</td><td>0.01945</td><td>0.00812</td><td>-0.74</td><td>1.352</td></tr></tbody></table></div>"
      ],
      "text/plain": [
       "shape: (3, 8)\n",
       "┌─────────┬─────────┬────────────┬─────────────┬────────────┬────────────┬────────────┬────────────┐\n",
       "│ pitcher ┆ game_pk ┆ pitch_type ┆ at_bat_numb ┆ h_move_var ┆ v_move_var ┆ h_move_mea ┆ v_move_mea │\n",
       "│ ---     ┆ ---     ┆ ---        ┆ er          ┆ iance      ┆ iance      ┆ n          ┆ n          │\n",
       "│ i32     ┆ i32     ┆ str        ┆ ---         ┆ ---        ┆ ---        ┆ ---        ┆ ---        │\n",
       "│         ┆         ┆            ┆ i32         ┆ f32        ┆ f32        ┆ f32        ┆ f32        │\n",
       "╞═════════╪═════════╪════════════╪═════════════╪════════════╪════════════╪════════════╪════════════╡\n",
       "│ 572362  ┆ 530742  ┆ FF         ┆ 82          ┆ 0.08405    ┆ 0.02       ┆ 0.605      ┆ 1.38       │\n",
       "│ 519326  ┆ 529524  ┆ SI         ┆ 75          ┆ 0.019633   ┆ 0.0309     ┆ -1.446667  ┆ 0.69       │\n",
       "│ 543408  ┆ 414852  ┆ FF         ┆ 46          ┆ 0.01945    ┆ 0.00812    ┆ -0.74      ┆ 1.352      │\n",
       "└─────────┴─────────┴────────────┴─────────────┴────────────┴────────────┴────────────┴────────────┘"
      ]
     },
     "execution_count": 3,
     "metadata": {},
     "output_type": "execute_result"
    }
   ],
   "source": [
    "# grouping by these features will allow us to get fine grained data on each pitcher.\n",
    "# Each row is going to be a pitchers metrics on one of their pitches in one at bat\n",
    "GROUP_COLS = [\"pitcher\", \"game_pk\", \"pitch_type\", \"at_bat_number\"]\n",
    "\n",
    "pitcher_release_clusters: pl.DataFrame = (\n",
    "    statcast_era_df.group_by(GROUP_COLS).agg(\n",
    "        # horizontal & vertical movement\n",
    "        h_move_variance=pl.col(\"pfx_x\").std() ** 2,\n",
    "        v_move_variance=pl.col(\"pfx_z\").std() ** 2,\n",
    "        h_move_mean=pl.col(\"pfx_x\").mean(),\n",
    "        v_move_mean=pl.col(\"pfx_z\").mean(),\n",
    "        # release position\n",
    "        h_release_variance=pl.col(\"release_pos_x\").std() ** 2,\n",
    "        v_release_variance=pl.col(\"release_pos_z\").std() ** 2,\n",
    "        h_release_mean=pl.col(\"release_pos_x\").mean(),\n",
    "        v_release_mean=pl.col(\"release_pos_z\").mean(),\n",
    "    )\n",
    "    # merge back with other data that we want to know about the pitch\n",
    "    .join(\n",
    "        other=statcast_era_df.select(\n",
    "            GROUP_COLS + [\"spin_axis\", \"release_spin_rate\", \"home_team\", \"away_team\"]\n",
    "        ),\n",
    "        on=[\"game_pk\", \"pitcher\", \"pitch_type\", \"at_bat_number\"],\n",
    "        how=\"left\",\n",
    "    )\n",
    ")\n",
    "\n",
    "pitcher_release_clusters.select(\n",
    "    GROUP_COLS\n",
    "    + [\n",
    "        \"h_move_variance\",\n",
    "        \"v_move_variance\",\n",
    "        \"h_move_mean\",\n",
    "        \"v_move_mean\",\n",
    "    ]\n",
    ").sample(3)"
   ]
  },
  {
   "cell_type": "code",
   "execution_count": null,
   "metadata": {},
   "outputs": [],
   "source": []
  }
 ],
 "metadata": {
  "kernelspec": {
   "display_name": "venv",
   "language": "python",
   "name": "python3"
  },
  "language_info": {
   "codemirror_mode": {
    "name": "ipython",
    "version": 3
   },
   "file_extension": ".py",
   "mimetype": "text/x-python",
   "name": "python",
   "nbconvert_exporter": "python",
   "pygments_lexer": "ipython3",
   "version": "3.12.3"
  }
 },
 "nbformat": 4,
 "nbformat_minor": 2
}
