{
 "cells": [
  {
   "cell_type": "markdown",
   "metadata": {},
   "source": [
    "### Reading data\n",
    "\n",
    "The data for this project is located in [this hugging face space](https://huggingface.co/datasets/Jensen-holm/statcast-era-pitches) that I made. It contains every single pitch from the modern statcast era up through last year (2015-2023)."
   ]
  },
  {
   "cell_type": "code",
   "execution_count": 6,
   "metadata": {},
   "outputs": [
    {
     "data": {
      "text/html": [
       "<div><style>\n",
       ".dataframe > thead > tr,\n",
       ".dataframe > tbody > tr {\n",
       "  text-align: right;\n",
       "  white-space: pre-wrap;\n",
       "}\n",
       "</style>\n",
       "<small>shape: (3, 92)</small><table border=\"1\" class=\"dataframe\"><thead><tr><th>pitch_type</th><th>game_date</th><th>release_speed</th><th>release_pos_x</th><th>release_pos_z</th><th>player_name</th><th>batter</th><th>pitcher</th><th>events</th><th>description</th><th>spin_dir</th><th>spin_rate_deprecated</th><th>break_angle_deprecated</th><th>break_length_deprecated</th><th>zone</th><th>des</th><th>game_type</th><th>stand</th><th>p_throws</th><th>home_team</th><th>away_team</th><th>type</th><th>hit_location</th><th>bb_type</th><th>balls</th><th>strikes</th><th>game_year</th><th>pfx_x</th><th>pfx_z</th><th>plate_x</th><th>plate_z</th><th>on_3b</th><th>on_2b</th><th>on_1b</th><th>outs_when_up</th><th>inning</th><th>inning_topbot</th><th>&hellip;</th><th>effective_speed</th><th>release_spin_rate</th><th>release_extension</th><th>game_pk</th><th>pitcher.1</th><th>fielder_2.1</th><th>fielder_3</th><th>fielder_4</th><th>fielder_5</th><th>fielder_6</th><th>fielder_7</th><th>fielder_8</th><th>fielder_9</th><th>release_pos_y</th><th>estimated_ba_using_speedangle</th><th>estimated_woba_using_speedangle</th><th>woba_value</th><th>woba_denom</th><th>babip_value</th><th>iso_value</th><th>launch_speed_angle</th><th>at_bat_number</th><th>pitch_number</th><th>pitch_name</th><th>home_score</th><th>away_score</th><th>bat_score</th><th>fld_score</th><th>post_away_score</th><th>post_home_score</th><th>post_bat_score</th><th>post_fld_score</th><th>if_fielding_alignment</th><th>of_fielding_alignment</th><th>spin_axis</th><th>delta_home_win_exp</th><th>delta_run_exp</th></tr><tr><td>str</td><td>str</td><td>f32</td><td>f32</td><td>f32</td><td>str</td><td>i32</td><td>i32</td><td>str</td><td>str</td><td>i64</td><td>i64</td><td>i64</td><td>i64</td><td>f32</td><td>str</td><td>str</td><td>str</td><td>str</td><td>str</td><td>str</td><td>str</td><td>f32</td><td>str</td><td>i32</td><td>i32</td><td>i32</td><td>f32</td><td>f32</td><td>f32</td><td>f32</td><td>i32</td><td>i32</td><td>i32</td><td>i32</td><td>f32</td><td>str</td><td>&hellip;</td><td>f32</td><td>i64</td><td>f32</td><td>i32</td><td>i64</td><td>i64</td><td>i32</td><td>i32</td><td>i32</td><td>i32</td><td>i32</td><td>i32</td><td>i32</td><td>f32</td><td>f32</td><td>f32</td><td>f32</td><td>f32</td><td>f32</td><td>f32</td><td>f32</td><td>i32</td><td>i32</td><td>str</td><td>i32</td><td>i32</td><td>i32</td><td>i64</td><td>i32</td><td>i32</td><td>i32</td><td>i64</td><td>str</td><td>str</td><td>f32</td><td>f32</td><td>f32</td></tr></thead><tbody><tr><td>&quot;CU&quot;</td><td>&quot;2017-06-19 00:…</td><td>76.300003</td><td>-2.36</td><td>5.49</td><td>&quot;Smith, Josh A.…</td><td>608324</td><td>595001</td><td>&quot;double&quot;</td><td>&quot;hit_into_play&quot;</td><td>null</td><td>null</td><td>null</td><td>null</td><td>9.0</td><td>&quot;Alex Bregman d…</td><td>&quot;R&quot;</td><td>&quot;R&quot;</td><td>&quot;R&quot;</td><td>&quot;OAK&quot;</td><td>&quot;HOU&quot;</td><td>&quot;X&quot;</td><td>7.0</td><td>&quot;line_drive&quot;</td><td>1</td><td>0</td><td>2017</td><td>1.32</td><td>-0.23</td><td>0.45</td><td>1.89</td><td>null</td><td>null</td><td>null</td><td>1</td><td>9.0</td><td>&quot;Top&quot;</td><td>&hellip;</td><td>75.0</td><td>2525</td><td>5.4</td><td>491149</td><td>595001</td><td>519390</td><td>475174</td><td>640461</td><td>592387</td><td>489267</td><td>501981</td><td>595144</td><td>459964</td><td>55.09</td><td>0.927</td><td>0.929</td><td>1.25</td><td>1.0</td><td>1.0</td><td>1.0</td><td>4.0</td><td>66</td><td>2</td><td>&quot;Curveball&quot;</td><td>1</td><td>4</td><td>4</td><td>1</td><td>4</td><td>1</td><td>4</td><td>1</td><td>&quot;Standard&quot;</td><td>&quot;Standard&quot;</td><td>73.0</td><td>-0.006</td><td>0.39</td></tr><tr><td>&quot;FF&quot;</td><td>&quot;2021-05-06 00:…</td><td>92.0</td><td>-2.16</td><td>6.35</td><td>&quot;Pineda, Michae…</td><td>621311</td><td>501381</td><td>&quot;single&quot;</td><td>&quot;hit_into_play&quot;</td><td>null</td><td>null</td><td>null</td><td>null</td><td>14.0</td><td>&quot;David Dahl sin…</td><td>&quot;R&quot;</td><td>&quot;L&quot;</td><td>&quot;R&quot;</td><td>&quot;MIN&quot;</td><td>&quot;TEX&quot;</td><td>&quot;X&quot;</td><td>7.0</td><td>&quot;line_drive&quot;</td><td>2</td><td>1</td><td>2021</td><td>-0.62</td><td>1.14</td><td>0.94</td><td>1.77</td><td>null</td><td>null</td><td>null</td><td>2</td><td>4.0</td><td>&quot;Top&quot;</td><td>&hellip;</td><td>91.900002</td><td>2050</td><td>6.3</td><td>634261</td><td>501381</td><td>666163</td><td>593934</td><td>624503</td><td>553902</td><td>592743</td><td>664247</td><td>621439</td><td>596146</td><td>54.200001</td><td>0.449</td><td>0.404</td><td>0.9</td><td>1.0</td><td>1.0</td><td>0.0</td><td>2.0</td><td>30</td><td>4</td><td>&quot;4-Seam Fastbal…</td><td>3</td><td>2</td><td>2</td><td>3</td><td>2</td><td>3</td><td>2</td><td>3</td><td>&quot;Infield shift&quot;</td><td>&quot;Standard&quot;</td><td>218.0</td><td>-0.016</td><td>0.106</td></tr><tr><td>&quot;FF&quot;</td><td>&quot;2019-05-22 00:…</td><td>99.300003</td><td>-1.77</td><td>6.15</td><td>&quot;Vieira, Thyago…</td><td>643603</td><td>600986</td><td>&quot;strikeout&quot;</td><td>&quot;swinging_strik…</td><td>null</td><td>null</td><td>null</td><td>null</td><td>6.0</td><td>&quot;Tyler White st…</td><td>&quot;R&quot;</td><td>&quot;R&quot;</td><td>&quot;R&quot;</td><td>&quot;HOU&quot;</td><td>&quot;CWS&quot;</td><td>&quot;S&quot;</td><td>2.0</td><td>null</td><td>2</td><td>2</td><td>2019</td><td>-0.26</td><td>1.47</td><td>0.78</td><td>2.1</td><td>null</td><td>null</td><td>null</td><td>0</td><td>9.0</td><td>&quot;Bot&quot;</td><td>&hellip;</td><td>99.599998</td><td>2340</td><td>6.4</td><td>565628</td><td>600986</td><td>543510</td><td>547989</td><td>570560</td><td>660162</td><td>641313</td><td>650391</td><td>544725</td><td>605508</td><td>54.060001</td><td>null</td><td>null</td><td>0.0</td><td>1.0</td><td>0.0</td><td>0.0</td><td>null</td><td>71</td><td>5</td><td>&quot;4-Seam Fastbal…</td><td>3</td><td>9</td><td>3</td><td>9</td><td>9</td><td>3</td><td>3</td><td>9</td><td>&quot;Standard&quot;</td><td>&quot;Standard&quot;</td><td>190.0</td><td>-0.002</td><td>-0.217</td></tr></tbody></table></div>"
      ],
      "text/plain": [
       "shape: (3, 92)\n",
       "┌───────────┬───────────┬───────────┬───────────┬───┬───────────┬───────────┬───────────┬──────────┐\n",
       "│ pitch_typ ┆ game_date ┆ release_s ┆ release_p ┆ … ┆ of_fieldi ┆ spin_axis ┆ delta_hom ┆ delta_ru │\n",
       "│ e         ┆ ---       ┆ peed      ┆ os_x      ┆   ┆ ng_alignm ┆ ---       ┆ e_win_exp ┆ n_exp    │\n",
       "│ ---       ┆ str       ┆ ---       ┆ ---       ┆   ┆ ent       ┆ f32       ┆ ---       ┆ ---      │\n",
       "│ str       ┆           ┆ f32       ┆ f32       ┆   ┆ ---       ┆           ┆ f32       ┆ f32      │\n",
       "│           ┆           ┆           ┆           ┆   ┆ str       ┆           ┆           ┆          │\n",
       "╞═══════════╪═══════════╪═══════════╪═══════════╪═══╪═══════════╪═══════════╪═══════════╪══════════╡\n",
       "│ CU        ┆ 2017-06-1 ┆ 76.300003 ┆ -2.36     ┆ … ┆ Standard  ┆ 73.0      ┆ -0.006    ┆ 0.39     │\n",
       "│           ┆ 9 00:00:0 ┆           ┆           ┆   ┆           ┆           ┆           ┆          │\n",
       "│           ┆ 0.0000000 ┆           ┆           ┆   ┆           ┆           ┆           ┆          │\n",
       "│           ┆ 00        ┆           ┆           ┆   ┆           ┆           ┆           ┆          │\n",
       "│ FF        ┆ 2021-05-0 ┆ 92.0      ┆ -2.16     ┆ … ┆ Standard  ┆ 218.0     ┆ -0.016    ┆ 0.106    │\n",
       "│           ┆ 6 00:00:0 ┆           ┆           ┆   ┆           ┆           ┆           ┆          │\n",
       "│           ┆ 0.0000000 ┆           ┆           ┆   ┆           ┆           ┆           ┆          │\n",
       "│           ┆ 00        ┆           ┆           ┆   ┆           ┆           ┆           ┆          │\n",
       "│ FF        ┆ 2019-05-2 ┆ 99.300003 ┆ -1.77     ┆ … ┆ Standard  ┆ 190.0     ┆ -0.002    ┆ -0.217   │\n",
       "│           ┆ 2 00:00:0 ┆           ┆           ┆   ┆           ┆           ┆           ┆          │\n",
       "│           ┆ 0.0000000 ┆           ┆           ┆   ┆           ┆           ┆           ┆          │\n",
       "│           ┆ 00        ┆           ┆           ┆   ┆           ┆           ┆           ┆          │\n",
       "└───────────┴───────────┴───────────┴───────────┴───┴───────────┴───────────┴───────────┴──────────┘"
      ]
     },
     "execution_count": 6,
     "metadata": {},
     "output_type": "execute_result"
    }
   ],
   "source": [
    "import polars as pl\n",
    "import numpy as np\n",
    "from dataclasses import dataclass\n",
    "\n",
    "STATCAST_ERA_PITCHES_URL: str = (\n",
    "    \"https://huggingface.co/api/datasets/Jensen-holm/statcast-era-pitches/parquet/default/train/0.parquet\"\n",
    ")\n",
    "\n",
    "statcast_era_df: pl.DataFrame = pl.read_parquet(STATCAST_ERA_PITCHES_URL)\n",
    "statcast_era_df.sample(3)"
   ]
  },
  {
   "cell_type": "markdown",
   "metadata": {},
   "source": [
    "# Goal\n",
    "\n",
    "I want to be able to measure a pitchers ability to tunnel pitches in an at bat. This will entail computing distances in 2D space between a few different metrics and combining them into one overarching tunnel score.\n",
    "\n",
    "- Computing the distance between horizontal movement and vertical movement between different pitches (high score = better?)\n",
    "- Computing the distance between release position x, y, and z for between different pitches (low score = better) \n",
    "- Estimate where the ball would have ended up without spin, compare that to other pitches without spin (low score = better). Say if two pitches had very different movement, but would have ended up in similar spots without spin, this means that the pitches started out on similar trajectories but broke a lot differently which is a very good thing.\n",
    "\n"
   ]
  },
  {
   "cell_type": "code",
   "execution_count": 2,
   "metadata": {},
   "outputs": [],
   "source": [
    "TUNNEL_COLS: list[str] = [\n",
    "    \"pitch_type\",  # type of pitch: FF, FC, CU, etc ...\n",
    "    \"release_pos_x\",  # horizontal release position of ball in ft from catcher pov\n",
    "    \"release_pos_z\",  # vertical release position of ball in ft from catcher pov\n",
    "    \"pfx_x\",  # horizontal movement in ft from catchers perspective\n",
    "    \"pfx_z\",  # vertical movement in ft from catchers perspective\n",
    "    \"plate_x\",  # horizontal position of ball when it crossed the plate\n",
    "    \"plate_z\",  # vertical position of the ball when it crossed the plate\n",
    "]\n",
    "\n",
    "# drop missing values for the columns that we care about\n",
    "statcast_era_pitches = statcast_era_df.drop_nulls(subset=TUNNEL_COLS)"
   ]
  },
  {
   "cell_type": "code",
   "execution_count": 3,
   "metadata": {},
   "outputs": [
    {
     "data": {
      "text/html": [
       "<div><style>\n",
       ".dataframe > thead > tr,\n",
       ".dataframe > tbody > tr {\n",
       "  text-align: right;\n",
       "  white-space: pre-wrap;\n",
       "}\n",
       "</style>\n",
       "<small>shape: (3, 8)</small><table border=\"1\" class=\"dataframe\"><thead><tr><th>pitcher</th><th>game_pk</th><th>pitch_type</th><th>at_bat_number</th><th>h_move_variance</th><th>v_move_variance</th><th>h_move_mean</th><th>v_move_mean</th></tr><tr><td>i32</td><td>i32</td><td>str</td><td>i32</td><td>f32</td><td>f32</td><td>f32</td><td>f32</td></tr></thead><tbody><tr><td>572362</td><td>530742</td><td>&quot;FF&quot;</td><td>82</td><td>0.08405</td><td>0.02</td><td>0.605</td><td>1.38</td></tr><tr><td>519326</td><td>529524</td><td>&quot;SI&quot;</td><td>75</td><td>0.019633</td><td>0.0309</td><td>-1.446667</td><td>0.69</td></tr><tr><td>543408</td><td>414852</td><td>&quot;FF&quot;</td><td>46</td><td>0.01945</td><td>0.00812</td><td>-0.74</td><td>1.352</td></tr></tbody></table></div>"
      ],
      "text/plain": [
       "shape: (3, 8)\n",
       "┌─────────┬─────────┬────────────┬─────────────┬────────────┬────────────┬────────────┬────────────┐\n",
       "│ pitcher ┆ game_pk ┆ pitch_type ┆ at_bat_numb ┆ h_move_var ┆ v_move_var ┆ h_move_mea ┆ v_move_mea │\n",
       "│ ---     ┆ ---     ┆ ---        ┆ er          ┆ iance      ┆ iance      ┆ n          ┆ n          │\n",
       "│ i32     ┆ i32     ┆ str        ┆ ---         ┆ ---        ┆ ---        ┆ ---        ┆ ---        │\n",
       "│         ┆         ┆            ┆ i32         ┆ f32        ┆ f32        ┆ f32        ┆ f32        │\n",
       "╞═════════╪═════════╪════════════╪═════════════╪════════════╪════════════╪════════════╪════════════╡\n",
       "│ 572362  ┆ 530742  ┆ FF         ┆ 82          ┆ 0.08405    ┆ 0.02       ┆ 0.605      ┆ 1.38       │\n",
       "│ 519326  ┆ 529524  ┆ SI         ┆ 75          ┆ 0.019633   ┆ 0.0309     ┆ -1.446667  ┆ 0.69       │\n",
       "│ 543408  ┆ 414852  ┆ FF         ┆ 46          ┆ 0.01945    ┆ 0.00812    ┆ -0.74      ┆ 1.352      │\n",
       "└─────────┴─────────┴────────────┴─────────────┴────────────┴────────────┴────────────┴────────────┘"
      ]
     },
     "execution_count": 3,
     "metadata": {},
     "output_type": "execute_result"
    }
   ],
   "source": [
    "# grouping by these features will allow us to get fine grained data on each pitcher.\n",
    "# Each row is going to be a pitchers metrics on one of their pitches in one at bat\n",
    "GROUP_COLS = [\"pitcher\", \"game_pk\", \"pitch_type\", \"at_bat_number\"]\n",
    "\n",
    "pitcher_release_clusters: pl.DataFrame = (\n",
    "    statcast_era_df.group_by(GROUP_COLS).agg(\n",
    "        # horizontal & vertical movement\n",
    "        h_move_variance=pl.col(\"pfx_x\").std() ** 2,\n",
    "        v_move_variance=pl.col(\"pfx_z\").std() ** 2,\n",
    "        h_move_mean=pl.col(\"pfx_x\").mean(),\n",
    "        v_move_mean=pl.col(\"pfx_z\").mean(),\n",
    "        # release position\n",
    "        h_release_variance=pl.col(\"release_pos_x\").std() ** 2,\n",
    "        v_release_variance=pl.col(\"release_pos_z\").std() ** 2,\n",
    "        h_release_mean=pl.col(\"release_pos_x\").mean(),\n",
    "        v_release_mean=pl.col(\"release_pos_z\").mean(),\n",
    "    )\n",
    "    # merge back with other data that we want to know about the pitch\n",
    "    .join(\n",
    "        other=statcast_era_df.select(\n",
    "            GROUP_COLS + [\"spin_axis\", \"release_spin_rate\", \"home_team\", \"away_team\"]\n",
    "        ),\n",
    "        on=[\"game_pk\", \"pitcher\", \"pitch_type\", \"at_bat_number\"],\n",
    "        how=\"left\",\n",
    "    )\n",
    ")\n",
    "\n",
    "# the above results in a dataframe where each row has pitch movement metrics within a specific at bat\n",
    "# for each of the pitchers pitches that they threw in that at bat.\n",
    "pitcher_release_clusters.select(\n",
    "    GROUP_COLS\n",
    "    + [\n",
    "        \"h_move_variance\",\n",
    "        \"v_move_variance\",\n",
    "        \"h_move_mean\",\n",
    "        \"v_move_mean\",\n",
    "    ]\n",
    ").sample(3)"
   ]
  },
  {
   "cell_type": "markdown",
   "metadata": {},
   "source": [
    "## Applying Magnus Equations\n",
    "\n",
    "The goal of applying the magnus equations in this context will be to figure out where the ball would have ended up in the strike zone if the ball did not have any spin. This is useful because if two pitches end up in the same spot without spin, but ended up in very different places in reality, these pitches 'looked' like one another, and are a very good combo."
   ]
  },
  {
   "cell_type": "code",
   "execution_count": 8,
   "metadata": {},
   "outputs": [],
   "source": [
    "\n",
    "@dataclass\n",
    "class MagnusEffect:\n",
    "    _ball_radius: float = 1.43 # inches\n",
    "    _air_density: float = 1.293 # kg/m^3\n",
    "    _ball_cross_sectional_area: float = np.pi * (0.07468 / 2) ** 2\n",
    "\n",
    "    def calculate_force(self, spin_rate: float, velocity: float) -> float:\n",
    "        def lift_coeffificient() -> float:\n",
    "            # implementation sourced from here: https://www1.grc.nasa.gov/beginners-guide-to-aeronautics/lift-of-a-baseball/\n",
    "            return 4 * (np.pi**2) * (self._ball_radius**3) * spin_rate * self._air_density * velocity\n",
    "    \n",
    "        L = lift_coeffificient()\n",
    "        return 0.5 * L * self._air_density * self._ball_cross_sectional_area * velocity ** 2 \n",
    "\n",
    "\n",
    "MagnusEffect().calculate_force(spin_rate=3000, velocity=100)"
   ]
  }
 ],
 "metadata": {
  "kernelspec": {
   "display_name": "venv",
   "language": "python",
   "name": "python3"
  },
  "language_info": {
   "codemirror_mode": {
    "name": "ipython",
    "version": 3
   },
   "file_extension": ".py",
   "mimetype": "text/x-python",
   "name": "python",
   "nbconvert_exporter": "python",
   "pygments_lexer": "ipython3",
   "version": "3.12.3"
  }
 },
 "nbformat": 4,
 "nbformat_minor": 2
}
